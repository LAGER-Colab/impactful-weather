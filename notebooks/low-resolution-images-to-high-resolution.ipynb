{
 "cells": [
  {
   "cell_type": "markdown",
   "metadata": {},
   "source": [
    "# Import Libraires "
   ]
  },
  {
   "cell_type": "code",
   "execution_count": 57,
   "metadata": {
    "_cell_guid": "b1076dfc-b9ad-4769-8c92-a6c4dae69d19",
    "_uuid": "8f2839f25d086af736a60e9eeb907d3b93b6e0e5",
    "execution": {
     "iopub.execute_input": "2022-07-25T16:50:43.493610Z",
     "iopub.status.busy": "2022-07-25T16:50:43.493164Z",
     "iopub.status.idle": "2022-07-25T16:50:49.135542Z",
     "shell.execute_reply": "2022-07-25T16:50:49.134706Z",
     "shell.execute_reply.started": "2022-07-25T16:50:43.493515Z"
    }
   },
   "outputs": [],
   "source": [
    "import numpy as np\n",
    "import tensorflow as tf\n",
    "import keras\n",
    "import cv2\n",
    "from keras.models import Sequential\n",
    "from keras.preprocessing.image import img_to_array\n",
    "import os\n",
    "from tqdm import tqdm\n",
    "import re\n",
    "import pickle\n",
    "import matplotlib.pyplot as plt"
   ]
  },
  {
   "cell_type": "markdown",
   "metadata": {},
   "source": [
    "# Load Data"
   ]
  },
  {
   "cell_type": "code",
   "execution_count": 58,
   "metadata": {
    "execution": {
     "iopub.execute_input": "2022-07-25T16:50:49.139237Z",
     "iopub.status.busy": "2022-07-25T16:50:49.138879Z",
     "iopub.status.idle": "2022-07-25T16:50:50.498860Z",
     "shell.execute_reply": "2022-07-25T16:50:50.497804Z",
     "shell.execute_reply.started": "2022-07-25T16:50:49.139204Z"
    },
    "scrolled": true
   },
   "outputs": [
    {
     "data": {
      "text/plain": [
       "array([[[0.02498245, 0.02570206, 0.02440295, ..., 0.01198664,\n",
       "         0.01114914, 0.01478702],\n",
       "        [0.01955402, 0.02351876, 0.02218845, ..., 0.01402334,\n",
       "         0.01109786, 0.00994285],\n",
       "        [0.01894124, 0.0218457 , 0.02272888, ..., 0.01710318,\n",
       "         0.01204097, 0.01065969],\n",
       "        ...,\n",
       "        [0.01972517, 0.01671813, 0.01694844, ..., 0.01257978,\n",
       "         0.0120191 , 0.01530671],\n",
       "        [0.01967395, 0.0172272 , 0.01683865, ..., 0.01267058,\n",
       "         0.01023725, 0.0114565 ],\n",
       "        [0.01509957, 0.01441063, 0.015171  , ..., 0.01146287,\n",
       "         0.01060696, 0.01274146]],\n",
       "\n",
       "       [[0.01990312, 0.02342614, 0.02112563, ..., 0.00473524,\n",
       "         0.00557833, 0.00611488],\n",
       "        [0.01545785, 0.0162411 , 0.01703112, ..., 0.00446532,\n",
       "         0.00597168, 0.00599413],\n",
       "        [0.0151665 , 0.0140051 , 0.01331244, ..., 0.00430727,\n",
       "         0.00529792, 0.00563137],\n",
       "        ...,\n",
       "        [0.01622873, 0.01906821, 0.02347827, ..., 0.0087043 ,\n",
       "         0.00807017, 0.01003715],\n",
       "        [0.01817853, 0.0249533 , 0.03299759, ..., 0.00957242,\n",
       "         0.0076839 , 0.00879634],\n",
       "        [0.01350741, 0.01419304, 0.01779056, ..., 0.00986379,\n",
       "         0.00885479, 0.00869684]],\n",
       "\n",
       "       [[0.02737934, 0.02588579, 0.02241835, ..., 0.01482038,\n",
       "         0.01601721, 0.0140902 ],\n",
       "        [0.03564332, 0.03040689, 0.0246001 , ..., 0.01877731,\n",
       "         0.0131116 , 0.00974228],\n",
       "        [0.03474861, 0.02935066, 0.02278273, ..., 0.01602466,\n",
       "         0.0112492 , 0.00899646],\n",
       "        ...,\n",
       "        [0.02886283, 0.02400624, 0.01763373, ..., 0.01203718,\n",
       "         0.01223075, 0.01345492],\n",
       "        [0.03196071, 0.03016447, 0.02108608, ..., 0.01255219,\n",
       "         0.01469988, 0.01369088],\n",
       "        [0.03022509, 0.02911101, 0.02268215, ..., 0.01308094,\n",
       "         0.01338058, 0.01201259]],\n",
       "\n",
       "       ...,\n",
       "\n",
       "       [[0.14314158, 0.35857335, 0.6373152 , ..., 0.10161179,\n",
       "         0.12503994, 0.15424949],\n",
       "        [0.0774967 , 0.16328129, 0.23679018, ..., 0.12563775,\n",
       "         0.15262496, 0.19911537],\n",
       "        [0.06683017, 0.11157534, 0.10707203, ..., 0.07542895,\n",
       "         0.12312391, 0.16044538],\n",
       "        ...,\n",
       "        [0.03338522, 0.02913023, 0.03863619, ..., 0.02047349,\n",
       "         0.0224703 , 0.01732031],\n",
       "        [0.0432468 , 0.03386685, 0.0374275 , ..., 0.02215995,\n",
       "         0.02185927, 0.01909994],\n",
       "        [0.04404286, 0.03855328, 0.04413164, ..., 0.02305855,\n",
       "         0.02339786, 0.02102428]],\n",
       "\n",
       "       [[0.14314158, 0.35857335, 0.6373152 , ..., 0.10161179,\n",
       "         0.12503994, 0.15424949],\n",
       "        [0.0774967 , 0.16328129, 0.23679018, ..., 0.12563775,\n",
       "         0.15262496, 0.19911537],\n",
       "        [0.06683017, 0.11157534, 0.10707203, ..., 0.07542895,\n",
       "         0.12312391, 0.16044538],\n",
       "        ...,\n",
       "        [0.03338522, 0.02913023, 0.03863619, ..., 0.02047349,\n",
       "         0.0224703 , 0.01732031],\n",
       "        [0.0432468 , 0.03386685, 0.0374275 , ..., 0.02215995,\n",
       "         0.02185927, 0.01909994],\n",
       "        [0.04404286, 0.03855328, 0.04413164, ..., 0.02305855,\n",
       "         0.02339786, 0.02102428]],\n",
       "\n",
       "       [[0.14314158, 0.35857335, 0.6373152 , ..., 0.10161179,\n",
       "         0.12503994, 0.15424949],\n",
       "        [0.0774967 , 0.16328129, 0.23679018, ..., 0.12563775,\n",
       "         0.15262496, 0.19911537],\n",
       "        [0.06683017, 0.11157534, 0.10707203, ..., 0.07542895,\n",
       "         0.12312391, 0.16044538],\n",
       "        ...,\n",
       "        [0.03338522, 0.02913023, 0.03863619, ..., 0.02047349,\n",
       "         0.0224703 , 0.01732031],\n",
       "        [0.0432468 , 0.03386685, 0.0374275 , ..., 0.02215995,\n",
       "         0.02185927, 0.01909994],\n",
       "        [0.04404286, 0.03855328, 0.04413164, ..., 0.02305855,\n",
       "         0.02339786, 0.02102428]]], dtype=float32)"
      ]
     },
     "execution_count": 58,
     "metadata": {},
     "output_type": "execute_result"
    }
   ],
   "source": [
    "with open(\"data.pkl\", \"rb\") as f:\n",
    "    l = pickle.load(f)\n",
    "l"
   ]
  },
  {
   "cell_type": "code",
   "execution_count": 59,
   "metadata": {
    "execution": {
     "iopub.execute_input": "2022-07-25T16:50:50.500650Z",
     "iopub.status.busy": "2022-07-25T16:50:50.500288Z",
     "iopub.status.idle": "2022-07-25T16:50:50.543236Z",
     "shell.execute_reply": "2022-07-25T16:50:50.542509Z",
     "shell.execute_reply.started": "2022-07-25T16:50:50.500614Z"
    }
   },
   "outputs": [],
   "source": [
    "l = np.array(l)"
   ]
  },
  {
   "cell_type": "code",
   "execution_count": 60,
   "metadata": {
    "execution": {
     "iopub.execute_input": "2022-07-25T16:50:50.545061Z",
     "iopub.status.busy": "2022-07-25T16:50:50.544703Z",
     "iopub.status.idle": "2022-07-25T16:50:50.575236Z",
     "shell.execute_reply": "2022-07-25T16:50:50.574380Z",
     "shell.execute_reply.started": "2022-07-25T16:50:50.545015Z"
    }
   },
   "outputs": [],
   "source": [
    "    np.random.shuffle(l)"
   ]
  },
  {
   "cell_type": "code",
   "execution_count": 61,
   "metadata": {
    "execution": {
     "iopub.execute_input": "2022-07-25T16:55:10.264498Z",
     "iopub.status.busy": "2022-07-25T16:55:10.264170Z",
     "iopub.status.idle": "2022-07-25T16:55:10.270300Z",
     "shell.execute_reply": "2022-07-25T16:55:10.269517Z",
     "shell.execute_reply.started": "2022-07-25T16:55:10.264448Z"
    }
   },
   "outputs": [],
   "source": [
    "def mean_conv(img):\n",
    "    size = 6\n",
    "    stride = 5\n",
    "    ret = np.ones((3,3))\n",
    "    stx=0\n",
    "    for i in range(3):\n",
    "        sty = 0\n",
    "        for j in range(3):\n",
    "            ret[i][j] = np.mean(img[stx:stx+size, sty:sty+size])\n",
    "            sty += stride\n",
    "        stx += stride\n",
    "    \n",
    "    return ret"
   ]
  },
  {
   "cell_type": "code",
   "execution_count": 76,
   "metadata": {
    "execution": {
     "iopub.execute_input": "2022-07-25T16:55:10.885774Z",
     "iopub.status.busy": "2022-07-25T16:55:10.884954Z",
     "iopub.status.idle": "2022-07-25T16:55:12.619276Z",
     "shell.execute_reply": "2022-07-25T16:55:12.618324Z",
     "shell.execute_reply.started": "2022-07-25T16:55:10.885722Z"
    }
   },
   "outputs": [
    {
     "name": "stderr",
     "output_type": "stream",
     "text": [
      "100%|████████████████████████████████████████████████████████████████████████████████████████████████| 3600/3600 [00:00<00:00, 26694.11it/s]\n"
     ]
    },
    {
     "data": {
      "text/plain": [
       "(1984, 16, 16)"
      ]
     },
     "execution_count": 76,
     "metadata": {},
     "output_type": "execute_result"
    }
   ],
   "source": [
    "#SIZE = 16\n",
    "#high_img = []\n",
    "#for i in tqdm(range(len(l))):\n",
    "#    img = l[i]\n",
    "#    img[np.isnan(img)]=np.mean(img[~np.isnan(img)])    \n",
    "#   #resizing image\n",
    "#    img = cv2.resize(img, (SIZE, SIZE))\n",
    "#    high_img.append(img)\n",
    "#temp_img = []\n",
    "#low_img = []\n",
    "#for i in tqdm(range(len(l))):\n",
    "#    img = l[i]\n",
    "#    img[np.isnan(img)]=np.mean(img[~np.isnan(img)])    \n",
    "#    #resizing image\n",
    "#    img = cv2.resize(img, (SIZE, SIZE))\n",
    "#    temp = mean_conv(img)\n",
    "#    temp_img.append(temp)\n",
    "#    img = cv2.resize(temp, (SIZE, SIZE), interpolation=cv2.INTER_NEAREST)\n",
    "#    low_img.append(img)\n",
    "\n",
    "\n",
    "#adjust to 16 by 16\n",
    "SIZE = 16\n",
    "high_img = []\n",
    "for i in tqdm(range(len(l))):\n",
    "    img = l[i]\n",
    "    img[np.isnan(img)]=np.mean(img[~np.isnan(img)])\n",
    "    if (i!=0 and np.array_equal(img, previmg)):\n",
    "        continue\n",
    "    previmg = img\n",
    "    #resizing image\n",
    "    img = cv2.resize(img, (SIZE, SIZE))\n",
    "    high_img.append(img)\n",
    "\n",
    "#remove all duplicates\n",
    "high_img = np.unique(np.array(high_img), axis=0)\n",
    "high_img.shape"
   ]
  },
  {
   "cell_type": "markdown",
   "metadata": {},
   "source": [
    "# Data Visualization"
   ]
  },
  {
   "cell_type": "code",
   "execution_count": 77,
   "metadata": {
    "execution": {
     "iopub.execute_input": "2022-07-25T16:55:14.094586Z",
     "iopub.status.busy": "2022-07-25T16:55:14.094267Z",
     "iopub.status.idle": "2022-07-25T16:55:15.016559Z",
     "shell.execute_reply": "2022-07-25T16:55:15.015678Z",
     "shell.execute_reply.started": "2022-07-25T16:55:14.094555Z"
    }
   },
   "outputs": [
    {
     "data": {
      "image/png": "[encoded data removed]",
      "text/plain": [
       "<Figure size 1440x720 with 3 Axes>"
      ]
     },
     "metadata": {
      "needs_background": "light"
     },
     "output_type": "display_data"
    },
    {
     "data": {
      "image/png": "[encoded data removed]",
      "text/plain": [
       "<Figure size 1440x720 with 3 Axes>"
      ]
     },
     "metadata": {
      "needs_background": "light"
     },
     "output_type": "display_data"
    },
    {
     "data": {
      "image/png": "[encoded data removed]",
      "text/plain": [
       "<Figure size 1440x720 with 3 Axes>"
      ]
     },
     "metadata": {
      "needs_background": "light"
     },
     "output_type": "display_data"
    },
    {
     "data": {
      "image/png": "[encoded data removed]",
      "text/plain": [
       "<Figure size 1440x720 with 3 Axes>"
      ]
     },
     "metadata": {
      "needs_background": "light"
     },
     "output_type": "display_data"
    }
   ],
   "source": [
    "for i in range(4):\n",
    "    a = np.random.randint(0,2000)\n",
    "    plt.figure(figsize=(20,10))\n",
    "    plt.subplot(1,3,1)\n",
    "    plt.title('High Resolution Imge', color = 'green', fontsize = 20)\n",
    "    plt.imshow(high_img[a])\n",
    "    plt.axis('off')\n",
    "    plt.subplot(1,3,2)\n",
    "    plt.title('low Resolution Image ', color = 'black', fontsize = 20)\n",
    "    plt.imshow(low_img[a])\n",
    "    plt.axis('off')\n",
    "    plt.subplot(1,3,3)\n",
    "    plt.title('temp Resolution Image ', color = 'black', fontsize = 20)\n",
    "    plt.imshow(temp_img[a])\n",
    "    plt.axis('off')"
   ]
  },
  {
   "cell_type": "markdown",
   "metadata": {},
   "source": [
    "# Slicing and Reshaping Images"
   ]
  },
  {
   "cell_type": "code",
   "execution_count": 64,
   "metadata": {},
   "outputs": [],
   "source": [
    "#this is correct. needs to be substituted in.\n",
    "#temp_img = []\n",
    "#low_img = []\n",
    "#for i in tqdm(range(len(high_img))):\n",
    "#    img = high_img[i]\n",
    "#   #resizing image\n",
    "#    img = cv2.resize(img, (SIZE, SIZE))\n",
    "#    temp = mean_conv(img)\n",
    "#    temp_img.append(temp)\n",
    "#    img = cv2.resize(temp, (SIZE, SIZE), interpolation=cv2.INTER_CUBIC)\n",
    "#    low_img.append(img)"
   ]
  },
  {
   "cell_type": "code",
   "execution_count": 78,
   "metadata": {},
   "outputs": [],
   "source": [
    "#bicubic interpolation\n",
    "def mean_conv_variable(img, outputDimm):\n",
    "    size = round(SIZE/outputDimm)\n",
    "    stride = size-1\n",
    "    ret = np.ones((outputDimm,outputDimm))\n",
    "    stx=0\n",
    "    for i in range(outputDimm):\n",
    "        sty = 0\n",
    "        for j in range(outputDimm):\n",
    "            ret[i][j] = np.mean(img[stx:stx+size, sty:sty+size])\n",
    "            sty += stride\n",
    "        stx += stride\n",
    "    \n",
    "    return ret"
   ]
  },
  {
   "cell_type": "code",
   "execution_count": 91,
   "metadata": {},
   "outputs": [
    {
     "name": "stderr",
     "output_type": "stream",
     "text": [
      "100%|█████████████████████████████████████████████████████████████████████████████████████████████████| 1984/1984 [00:00<00:00, 7795.48it/s]\n",
      "100%|█████████████████████████████████████████████████████████████████████████████████████████████████| 1984/1984 [00:01<00:00, 1470.49it/s]\n"
     ]
    },
    {
     "data": {
      "text/plain": [
       "(-0.5, 15.5, 15.5, -0.5)"
      ]
     },
     "execution_count": 91,
     "metadata": {},
     "output_type": "execute_result"
    },
    {
     "data": {
      "image/png": "[encoded data removed]",
      "text/plain": [
       "<Figure size 1440x720 with 3 Axes>"
      ]
     },
     "metadata": {
      "needs_background": "light"
     },
     "output_type": "display_data"
    },
    {
     "data": {
      "image/png": "[encoded data removed]",
      "text/plain": [
       "<Figure size 1440x720 with 3 Axes>"
      ]
     },
     "metadata": {
      "needs_background": "light"
     },
     "output_type": "display_data"
    }
   ],
   "source": [
    "#stacked srcnn idea\n",
    "#iterate over all data and upscale it from 16x16 to different resolutions (3x3, 8x8, 16x16)\n",
    "from PIL import Image\n",
    "\n",
    "#train_high_image contains 16x16 images\n",
    "#train_low_image contains 3x3 images\n",
    "\n",
    "def mean_conv8x8(img):\n",
    "    size = 2\n",
    "    stride = 1\n",
    "    ret = np.ones((8,8))\n",
    "    stx = 0\n",
    "    for i in range(8):\n",
    "        sty = 0\n",
    "        for j in range(8):\n",
    "            ret[i][j] = np.mean(img[stx:stx+size, sty:sty+size])\n",
    "            sty += stride\n",
    "        stx += stride\n",
    "    return ret\n",
    "\n",
    "def convertImages8x8(train):\n",
    "    temp_train = []\n",
    "    for i in tqdm(range(len(train))):\n",
    "        img = train[i]\n",
    "        img[np.isnan(img)]=np.mean(img[~np.isnan(img)])    \n",
    "        #resizing image\n",
    "        img = cv2.resize(img, (SIZE, SIZE))\n",
    "        temp = mean_conv_variable(img, 8)\n",
    "        temp_img.append(temp)\n",
    "        img = cv2.resize(temp, (SIZE, SIZE), interpolation=cv2.INTER_NEAREST)\n",
    "        temp_train.append(img) \n",
    "    return temp_train\n",
    "\n",
    "\n",
    "def convertImages1(train, outputDimm):\n",
    "    temp_train = []\n",
    "    for i in tqdm(range(len(high_img))):\n",
    "        img = train[i]\n",
    "        #resizing image\n",
    "        img = cv2.resize(img, (SIZE, SIZE))\n",
    "        temp = mean_conv_variable(img, outputDimm)\n",
    "        temp_img.append(temp)\n",
    "        img = cv2.resize(temp, (SIZE, SIZE), interpolation=cv2.INTER_CUBIC)\n",
    "        temp_train.append(img)\n",
    "        #temp_train.append(temp)\n",
    "    return temp_train\n",
    "\n",
    "def convertImages(train, outputDimm):\n",
    "    temp_train = []\n",
    "    for i in tqdm(range(len(train))):\n",
    "        img = train[i]\n",
    "        img[np.isnan(img)]=np.mean(img[~np.isnan(img)])    \n",
    "        #resizing image\n",
    "        img = cv2.resize(img, (SIZE, SIZE))\n",
    "        temp = mean_conv_variable(img, outputDimm)\n",
    "        temp_img.append(temp)\n",
    "        img = cv2.resize(temp, (SIZE, SIZE), interpolation=cv2.INTER_NEAREST)\n",
    "        temp_train.append(img) \n",
    "    return temp_train\n",
    "\n",
    "#3x3 images\n",
    "train_3x3 = []\n",
    "for img in train_high_image:\n",
    "    scaled_image = cv2.resize(img, (3, 3))  # when scaling we scale original image to 24x24 \n",
    "    train_3x3.append(scaled_image)\n",
    "#train_3x3_converted = convertImages(train_3x3, 3)\n",
    "train_3x3_converted = convertImages(train_high_image, 3)\n",
    "\n",
    "#8x8 images\n",
    "train_8x8 = []\n",
    "for img in train_high_image:\n",
    "    scaled_image = cv2.resize(img, (8, 8))  # when scaling we scale original image to 24x24 \n",
    "    train_8x8.append(scaled_image)\n",
    "#train_8x8_converted = convertImages(train_8x8, 8)\n",
    "train_8x8_converted = convertImages(train_high_image, 8)\n",
    "\n",
    "\n",
    "#16x16\n",
    "train_16x16 = train_high_image\n",
    "   \n",
    "#display unconverted scaled images\n",
    "a = np.random.randint(0,1000)\n",
    "plt.figure(figsize=(20,10))\n",
    "plt.subplot(1,3,1)\n",
    "plt.title('16x16 Image', color = 'green', fontsize = 20)\n",
    "plt.imshow(train_16x16[a])\n",
    "plt.axis('off')\n",
    "plt.subplot(1,3,2)\n",
    "plt.title('8x8 Image', color = 'green', fontsize = 20)\n",
    "plt.imshow(train_8x8[a])\n",
    "plt.axis('off')\n",
    "plt.subplot(1,3,3)\n",
    "plt.title('3x3 Image', color = 'green', fontsize = 20)\n",
    "plt.imshow(train_3x3[a])\n",
    "plt.axis('off')\n",
    "\n",
    "#display converted images\n",
    "plt.figure(figsize=(20,10))\n",
    "plt.subplot(1,3,1)\n",
    "plt.title('16x16 Image Converted', color = 'green', fontsize = 20)\n",
    "plt.imshow(train_16x16[a])\n",
    "plt.axis('off')\n",
    "plt.subplot(1,3,2)\n",
    "plt.title('8x8 Image Converted', color = 'green', fontsize = 20)\n",
    "plt.imshow(train_8x8_converted[a])\n",
    "plt.axis('off')\n",
    "plt.subplot(1,3,3)\n",
    "plt.title('3x3 Image Converted', color = 'green', fontsize = 20)\n",
    "plt.imshow(train_3x3_converted[a])\n",
    "plt.axis('off')"
   ]
  },
  {
   "cell_type": "code",
   "execution_count": 101,
   "metadata": {
    "execution": {
     "iopub.execute_input": "2022-07-25T16:55:21.893378Z",
     "iopub.status.busy": "2022-07-25T16:55:21.893059Z",
     "iopub.status.idle": "2022-07-25T16:55:21.921451Z",
     "shell.execute_reply": "2022-07-25T16:55:21.919465Z",
     "shell.execute_reply.started": "2022-07-25T16:55:21.893349Z"
    }
   },
   "outputs": [
    {
     "name": "stdout",
     "output_type": "stream",
     "text": [
      "Shape of training images: (1900, 16, 16, 1)\n",
      "Shape of test images: (84, 16, 16, 1)\n",
      "Shape of validation images: (84, 16, 16, 1)\n",
      "Shape of training images: (1900, 16, 16, 1)\n",
      "Shape of validation images: (0, 16, 16, 1)\n"
     ]
    },
    {
     "data": {
      "text/plain": [
       "array([], shape=(0, 16, 16, 1), dtype=float64)"
      ]
     },
     "execution_count": 101,
     "metadata": {},
     "output_type": "execute_result"
    }
   ],
   "source": [
    "#16x16 -> train_high_image\n",
    "train_high_image = train_16x16[:1900]\n",
    "train_high_image = np.reshape(train_high_image,(len(train_high_image),SIZE,SIZE,1))\n",
    "validation_high_image = high_img[1900:1984]\n",
    "validation_high_image= np.reshape(validation_high_image,(len(validation_high_image),SIZE,SIZE,1))\n",
    "test_high_image = high_img[1900:]\n",
    "test_high_image= np.reshape(test_high_image,(len(test_high_image),SIZE,SIZE,1))\n",
    "\n",
    "#3x3 -> train_low_image\n",
    "train_low_image = train_low_image[:1900]\n",
    "train_low_image = np.reshape(train_low_image,(len(train_low_image),SIZE,SIZE,1))\n",
    "validation_low_image = low_img[1900:1984]\n",
    "validation_low_image = np.reshape(validation_low_image,(len(validation_low_image),SIZE,SIZE,1))\n",
    "test_low_image = low_img[1984:]\n",
    "test_low_image = np.reshape(test_low_image,(len(test_low_image),SIZE,SIZE,1))\n",
    "\n",
    "#3x3 + 16x16 -> shape\n",
    "print(\"Shape of training images:\",train_high_image.shape)\n",
    "print(\"Shape of test images:\",test_high_image.shape)\n",
    "print(\"Shape of validation images:\",validation_high_image.shape)\n",
    "\n",
    "#8x8 -> train_high_image_8x8\n",
    "train_high_image_8x8 = train_8x8_converted[:1900]\n",
    "train_high_image_8x8 = np.reshape(train_high_image_8x8,(len(train_high_image_8x8),SIZE,SIZE,1))\n",
    "validation_high_image_8x8 = train_high_image_8x8[1900:1984]\n",
    "validation_high_image_8x8 = np.reshape(validation_high_image_8x8,(len(validation_high_image_8x8),SIZE,SIZE,1))\n",
    "\n",
    "#8x8 -> shape\n",
    "print(\"Shape of training images:\", train_high_image_8x8.shape)\n",
    "print(\"Shape of validation images:\", validation_high_image_8x8.shape)"
   ]
  },
  {
   "cell_type": "markdown",
   "metadata": {},
   "source": [
    "# Defining Model"
   ]
  },
  {
   "cell_type": "code",
   "execution_count": 93,
   "metadata": {
    "execution": {
     "iopub.execute_input": "2022-07-25T16:55:23.453515Z",
     "iopub.status.busy": "2022-07-25T16:55:23.453185Z",
     "iopub.status.idle": "2022-07-25T16:55:26.321078Z",
     "shell.execute_reply": "2022-07-25T16:55:26.320335Z",
     "shell.execute_reply.started": "2022-07-25T16:55:23.453460Z"
    }
   },
   "outputs": [
    {
     "name": "stdout",
     "output_type": "stream",
     "text": [
      "Model: \"model_1\"\n",
      "__________________________________________________________________________________________________\n",
      " Layer (type)                   Output Shape         Param #     Connected to                     \n",
      "==================================================================================================\n",
      " input_2 (InputLayer)           [(None, 16, 16, 1)]  0           []                               \n",
      "                                                                                                  \n",
      " sequential_8 (Sequential)      (None, 8, 8, 128)    1280        ['input_2[0][0]']                \n",
      "                                                                                                  \n",
      " sequential_9 (Sequential)      (None, 4, 4, 128)    147584      ['sequential_8[0][0]']           \n",
      "                                                                                                  \n",
      " sequential_10 (Sequential)     (None, 2, 2, 256)    296192      ['sequential_9[0][0]']           \n",
      "                                                                                                  \n",
      " sequential_11 (Sequential)     (None, 1, 1, 512)    1182208     ['sequential_10[0][0]']          \n",
      "                                                                                                  \n",
      " sequential_12 (Sequential)     (None, 2, 2, 256)    1179904     ['sequential_11[0][0]']          \n",
      "                                                                                                  \n",
      " concatenate_4 (Concatenate)    (None, 2, 2, 512)    0           ['sequential_12[0][0]',          \n",
      "                                                                  'sequential_10[0][0]']          \n",
      "                                                                                                  \n",
      " sequential_13 (Sequential)     (None, 4, 4, 128)    589952      ['concatenate_4[0][0]']          \n",
      "                                                                                                  \n",
      " concatenate_5 (Concatenate)    (None, 4, 4, 256)    0           ['sequential_13[0][0]',          \n",
      "                                                                  'sequential_9[0][0]']           \n",
      "                                                                                                  \n",
      " sequential_14 (Sequential)     (None, 8, 8, 128)    295040      ['concatenate_5[0][0]']          \n",
      "                                                                                                  \n",
      " concatenate_6 (Concatenate)    (None, 8, 8, 256)    0           ['sequential_14[0][0]',          \n",
      "                                                                  'sequential_8[0][0]']           \n",
      "                                                                                                  \n",
      " sequential_15 (Sequential)     (None, 16, 16, 3)    6915        ['concatenate_6[0][0]']          \n",
      "                                                                                                  \n",
      " concatenate_7 (Concatenate)    (None, 16, 16, 4)    0           ['sequential_15[0][0]',          \n",
      "                                                                  'input_2[0][0]']                \n",
      "                                                                                                  \n",
      " conv2d_9 (Conv2D)              (None, 16, 16, 1)    17          ['concatenate_7[0][0]']          \n",
      "                                                                                                  \n",
      "==================================================================================================\n",
      "Total params: 3,699,092\n",
      "Trainable params: 3,697,556\n",
      "Non-trainable params: 1,536\n",
      "__________________________________________________________________________________________________\n"
     ]
    }
   ],
   "source": [
    "from keras import layers\n",
    "def down(filters , kernel_size, apply_batch_normalization = True):\n",
    "    downsample = tf.keras.models.Sequential()\n",
    "    downsample.add(layers.Conv2D(filters,kernel_size,padding = 'same', strides = 2))\n",
    "    if apply_batch_normalization:\n",
    "        downsample.add(layers.BatchNormalization())\n",
    "    downsample.add(keras.layers.LeakyReLU())\n",
    "    return downsample\n",
    "\n",
    "\n",
    "def up(filters, kernel_size, dropout = False):\n",
    "    upsample = tf.keras.models.Sequential()\n",
    "    upsample.add(layers.Conv2DTranspose(filters, kernel_size,padding = 'same', strides = 2))\n",
    "    if dropout:\n",
    "        upsample.dropout(0.2)\n",
    "    upsample.add(keras.layers.LeakyReLU())\n",
    "    return upsample\n",
    "\n",
    "def model():\n",
    "    inputs = layers.Input(shape = [SIZE,SIZE,1])\n",
    "    d1 = down(128,(3,3),False)(inputs)\n",
    "    d2 = down(128,(3,3),False)(d1)\n",
    "    d3 = down(256,(3,3),True)(d2)\n",
    "    d4 = down(512,(3,3),True)(d3)\n",
    "    \n",
    "    #upsampling\n",
    "    u2 = up(256,(3,3),False)(d4)\n",
    "    u2 = layers.concatenate([u2,d3])\n",
    "    u3 = up(128,(3,3),False)(u2)\n",
    "    u3 = layers.concatenate([u3,d2])\n",
    "    u4 = up(128,(3,3),False)(u3)\n",
    "    u4 = layers.concatenate([u4,d1])\n",
    "    u5 = up(3,(3,3),False)(u4)\n",
    "    u5 = layers.concatenate([u5,inputs])\n",
    "    output = layers.Conv2D(1,(2,2),strides = 1, padding = 'same')(u5)\n",
    "    return tf.keras.Model(inputs=inputs, outputs=output)\n",
    "\n",
    "\n",
    "model = model()\n",
    "model.summary()"
   ]
  },
  {
   "cell_type": "markdown",
   "metadata": {},
   "source": [
    "# Compile "
   ]
  },
  {
   "cell_type": "code",
   "execution_count": 94,
   "metadata": {
    "execution": {
     "iopub.execute_input": "2022-07-25T16:58:20.045842Z",
     "iopub.status.busy": "2022-07-25T16:58:20.045435Z",
     "iopub.status.idle": "2022-07-25T16:58:20.063367Z",
     "shell.execute_reply": "2022-07-25T16:58:20.062678Z",
     "shell.execute_reply.started": "2022-07-25T16:58:20.045808Z"
    }
   },
   "outputs": [],
   "source": [
    "model.compile(optimizer = tf.keras.optimizers.Adam(learning_rate = 0.0001), loss = 'mean_absolute_error',\n",
    "              metrics = ['acc'])"
   ]
  },
  {
   "cell_type": "markdown",
   "metadata": {},
   "source": [
    "# Fitting model"
   ]
  },
  {
   "cell_type": "code",
   "execution_count": 95,
   "metadata": {
    "execution": {
     "iopub.execute_input": "2022-07-25T16:58:21.305815Z",
     "iopub.status.busy": "2022-07-25T16:58:21.305501Z",
     "iopub.status.idle": "2022-07-25T16:58:58.207113Z",
     "shell.execute_reply": "2022-07-25T16:58:58.206417Z",
     "shell.execute_reply.started": "2022-07-25T16:58:21.305785Z"
    }
   },
   "outputs": [
    {
     "name": "stdout",
     "output_type": "stream",
     "text": [
      "Epoch 1/40\n",
      "124/124 [==============================] - 18s 140ms/step - loss: 0.0449 - acc: 0.0000e+00 - val_loss: 0.0477 - val_acc: 0.0000e+00\n",
      "Epoch 2/40\n",
      "124/124 [==============================] - 17s 139ms/step - loss: 0.0367 - acc: 0.0000e+00 - val_loss: 0.0445 - val_acc: 0.0000e+00\n",
      "Epoch 3/40\n",
      "124/124 [==============================] - 17s 138ms/step - loss: 0.0343 - acc: 0.0000e+00 - val_loss: 0.0417 - val_acc: 0.0000e+00\n",
      "Epoch 4/40\n",
      "124/124 [==============================] - 17s 141ms/step - loss: 0.0335 - acc: 0.0000e+00 - val_loss: 0.0382 - val_acc: 0.0000e+00\n",
      "Epoch 5/40\n",
      "124/124 [==============================] - 18s 142ms/step - loss: 0.0324 - acc: 0.0000e+00 - val_loss: 0.0355 - val_acc: 0.0000e+00\n",
      "Epoch 6/40\n",
      "124/124 [==============================] - 18s 142ms/step - loss: 0.0317 - acc: 0.0000e+00 - val_loss: 0.0327 - val_acc: 0.0000e+00\n",
      "Epoch 7/40\n",
      "124/124 [==============================] - 19s 151ms/step - loss: 0.0308 - acc: 0.0000e+00 - val_loss: 0.0325 - val_acc: 0.0000e+00\n",
      "Epoch 8/40\n",
      "124/124 [==============================] - 18s 146ms/step - loss: 0.0306 - acc: 0.0000e+00 - val_loss: 0.0322 - val_acc: 0.0000e+00\n",
      "Epoch 9/40\n",
      "124/124 [==============================] - 18s 145ms/step - loss: 0.0301 - acc: 0.0000e+00 - val_loss: 0.0324 - val_acc: 0.0000e+00\n",
      "Epoch 10/40\n",
      "124/124 [==============================] - 18s 143ms/step - loss: 0.0298 - acc: 0.0000e+00 - val_loss: 0.0320 - val_acc: 0.0000e+00\n",
      "Epoch 11/40\n",
      "124/124 [==============================] - 17s 140ms/step - loss: 0.0291 - acc: 0.0000e+00 - val_loss: 0.0305 - val_acc: 0.0000e+00\n",
      "Epoch 12/40\n",
      "124/124 [==============================] - 18s 143ms/step - loss: 0.0286 - acc: 0.0000e+00 - val_loss: 0.0314 - val_acc: 0.0000e+00\n",
      "Epoch 13/40\n",
      "124/124 [==============================] - 18s 143ms/step - loss: 0.0283 - acc: 0.0000e+00 - val_loss: 0.0309 - val_acc: 0.0000e+00\n",
      "Epoch 14/40\n",
      "124/124 [==============================] - 18s 149ms/step - loss: 0.0278 - acc: 0.0000e+00 - val_loss: 0.0302 - val_acc: 0.0000e+00\n",
      "Epoch 15/40\n",
      "124/124 [==============================] - 18s 143ms/step - loss: 0.0272 - acc: 0.0000e+00 - val_loss: 0.0298 - val_acc: 0.0000e+00\n",
      "Epoch 16/40\n",
      "124/124 [==============================] - 18s 144ms/step - loss: 0.0268 - acc: 0.0000e+00 - val_loss: 0.0310 - val_acc: 0.0000e+00\n",
      "Epoch 17/40\n",
      "124/124 [==============================] - 18s 146ms/step - loss: 0.0265 - acc: 0.0000e+00 - val_loss: 0.0311 - val_acc: 0.0000e+00\n",
      "Epoch 18/40\n",
      "124/124 [==============================] - 18s 145ms/step - loss: 0.0264 - acc: 0.0000e+00 - val_loss: 0.0294 - val_acc: 0.0000e+00\n",
      "Epoch 19/40\n",
      "124/124 [==============================] - 18s 149ms/step - loss: 0.0258 - acc: 0.0000e+00 - val_loss: 0.0301 - val_acc: 0.0000e+00\n",
      "Epoch 20/40\n",
      "124/124 [==============================] - 18s 144ms/step - loss: 0.0259 - acc: 0.0000e+00 - val_loss: 0.0304 - val_acc: 0.0000e+00\n",
      "Epoch 21/40\n",
      "124/124 [==============================] - 18s 148ms/step - loss: 0.0257 - acc: 0.0000e+00 - val_loss: 0.0291 - val_acc: 0.0000e+00\n",
      "Epoch 22/40\n",
      "124/124 [==============================] - 18s 147ms/step - loss: 0.0249 - acc: 0.0000e+00 - val_loss: 0.0299 - val_acc: 0.0000e+00\n",
      "Epoch 23/40\n",
      "124/124 [==============================] - 18s 147ms/step - loss: 0.0241 - acc: 0.0000e+00 - val_loss: 0.0315 - val_acc: 0.0000e+00\n",
      "Epoch 24/40\n",
      "124/124 [==============================] - 18s 147ms/step - loss: 0.0238 - acc: 0.0000e+00 - val_loss: 0.0299 - val_acc: 0.0000e+00\n",
      "Epoch 25/40\n",
      "124/124 [==============================] - 18s 149ms/step - loss: 0.0236 - acc: 0.0000e+00 - val_loss: 0.0305 - val_acc: 0.0000e+00\n",
      "Epoch 26/40\n",
      "124/124 [==============================] - 18s 148ms/step - loss: 0.0230 - acc: 0.0000e+00 - val_loss: 0.0313 - val_acc: 0.0000e+00\n",
      "Epoch 27/40\n",
      "124/124 [==============================] - 18s 147ms/step - loss: 0.0231 - acc: 0.0000e+00 - val_loss: 0.0303 - val_acc: 0.0000e+00\n",
      "Epoch 28/40\n",
      "124/124 [==============================] - 18s 144ms/step - loss: 0.0226 - acc: 0.0000e+00 - val_loss: 0.0316 - val_acc: 0.0000e+00\n",
      "Epoch 29/40\n",
      "124/124 [==============================] - 19s 151ms/step - loss: 0.0229 - acc: 0.0000e+00 - val_loss: 0.0320 - val_acc: 0.0000e+00\n",
      "Epoch 30/40\n",
      "124/124 [==============================] - 18s 143ms/step - loss: 0.0225 - acc: 0.0000e+00 - val_loss: 0.0346 - val_acc: 0.0000e+00\n",
      "Epoch 31/40\n",
      "124/124 [==============================] - 18s 147ms/step - loss: 0.0224 - acc: 0.0000e+00 - val_loss: 0.0309 - val_acc: 0.0000e+00\n",
      "Epoch 32/40\n",
      "124/124 [==============================] - 20s 160ms/step - loss: 0.0221 - acc: 0.0000e+00 - val_loss: 0.0366 - val_acc: 0.0000e+00\n",
      "Epoch 33/40\n",
      "124/124 [==============================] - 19s 151ms/step - loss: 0.0219 - acc: 0.0000e+00 - val_loss: 0.0341 - val_acc: 0.0000e+00\n",
      "Epoch 34/40\n",
      "124/124 [==============================] - 18s 148ms/step - loss: 0.0214 - acc: 0.0000e+00 - val_loss: 0.0363 - val_acc: 0.0000e+00\n",
      "Epoch 35/40\n",
      "124/124 [==============================] - 18s 149ms/step - loss: 0.0215 - acc: 0.0000e+00 - val_loss: 0.0364 - val_acc: 0.0000e+00\n",
      "Epoch 36/40\n",
      "124/124 [==============================] - 18s 146ms/step - loss: 0.0212 - acc: 0.0000e+00 - val_loss: 0.0349 - val_acc: 0.0000e+00\n",
      "Epoch 37/40\n",
      "124/124 [==============================] - 18s 149ms/step - loss: 0.0212 - acc: 0.0000e+00 - val_loss: 0.0312 - val_acc: 0.0000e+00\n",
      "Epoch 38/40\n",
      "124/124 [==============================] - 18s 144ms/step - loss: 0.0210 - acc: 0.0000e+00 - val_loss: 0.0355 - val_acc: 0.0000e+00\n",
      "Epoch 39/40\n",
      "124/124 [==============================] - 18s 144ms/step - loss: 0.0212 - acc: 0.0000e+00 - val_loss: 0.0351 - val_acc: 0.0000e+00\n",
      "Epoch 40/40\n",
      "124/124 [==============================] - 18s 144ms/step - loss: 0.0206 - acc: 0.0000e+00 - val_loss: 0.0319 - val_acc: 0.0000e+00\n"
     ]
    },
    {
     "data": {
      "text/plain": [
       "<keras.callbacks.History at 0x7f106769da60>"
      ]
     },
     "execution_count": 95,
     "metadata": {},
     "output_type": "execute_result"
    }
   ],
   "source": [
    "#3x3 -> 8x8 model\n",
    "model.fit(train_high_image_8x8, train_high_image, epochs = 40, batch_size = 16,\n",
    "          validation_data = (train_high_image_8x8, train_high_image))"
   ]
  },
  {
   "cell_type": "markdown",
   "metadata": {},
   "source": [
    "# Prediction Visualization"
   ]
  },
  {
   "cell_type": "code",
   "execution_count": 100,
   "metadata": {
    "execution": {
     "iopub.execute_input": "2022-07-25T16:56:13.656901Z",
     "iopub.status.busy": "2022-07-25T16:56:13.656587Z",
     "iopub.status.idle": "2022-07-25T16:56:18.908257Z",
     "shell.execute_reply": "2022-07-25T16:56:18.907440Z",
     "shell.execute_reply.started": "2022-07-25T16:56:13.656872Z"
    }
   },
   "outputs": [
    {
     "ename": "IndexError",
     "evalue": "index 100 is out of bounds for axis 0 with size 0",
     "output_type": "error",
     "traceback": [
      "\u001b[0;31m---------------------------------------------------------------------------\u001b[0m",
      "\u001b[0;31mIndexError\u001b[0m                                Traceback (most recent call last)",
      "Input \u001b[0;32mIn [100]\u001b[0m, in \u001b[0;36m<cell line: 15>\u001b[0;34m()\u001b[0m\n\u001b[1;32m     13\u001b[0m     plt\u001b[38;5;241m.\u001b[39mshow()\n\u001b[1;32m     15\u001b[0m \u001b[38;5;28;01mfor\u001b[39;00m i \u001b[38;5;129;01min\u001b[39;00m \u001b[38;5;28mrange\u001b[39m(\u001b[38;5;241m100\u001b[39m,\u001b[38;5;241m110\u001b[39m):\n\u001b[0;32m---> 17\u001b[0m     predicted \u001b[38;5;241m=\u001b[39m np\u001b[38;5;241m.\u001b[39mclip(model\u001b[38;5;241m.\u001b[39mpredict(\u001b[43mvalidation_high_image_8x8\u001b[49m\u001b[43m[\u001b[49m\u001b[43mi\u001b[49m\u001b[43m]\u001b[49m\u001b[38;5;241m.\u001b[39mreshape(\u001b[38;5;241m1\u001b[39m,SIZE, SIZE,\u001b[38;5;241m1\u001b[39m)),\u001b[38;5;241m0.0\u001b[39m,\u001b[38;5;241m1.0\u001b[39m)\u001b[38;5;241m.\u001b[39mreshape(SIZE, SIZE,\u001b[38;5;241m1\u001b[39m)\n\u001b[1;32m     18\u001b[0m     plot_images(train_high_image[i], validation_high_image_8x8[i],predicted)\n",
      "\u001b[0;31mIndexError\u001b[0m: index 100 is out of bounds for axis 0 with size 0"
     ]
    }
   ],
   "source": [
    "def plot_images(high,low,predicted):\n",
    "    plt.figure(figsize=(15,15))\n",
    "    plt.subplot(1,3,1)\n",
    "    plt.title('High Image', color = 'green', fontsize = 20)\n",
    "    plt.imshow(high)\n",
    "    plt.subplot(1,3,2)\n",
    "    plt.title('Low Image ', color = 'black', fontsize = 20)\n",
    "    plt.imshow(low)\n",
    "    plt.subplot(1,3,3)\n",
    "    plt.title('Predicted Image ', color = 'Red', fontsize = 20)\n",
    "    plt.imshow(predicted)\n",
    "   \n",
    "    plt.show()\n",
    "\n",
    "for i in range(100,110):\n",
    "    \n",
    "    predicted = np.clip(model.predict(validation_high_image_8x8[i].reshape(1,SIZE, SIZE,1)),0.0,1.0).reshape(SIZE, SIZE,1)\n",
    "    plot_images(train_high_image[i], validation_high_image_8x8[i],predicted)"
   ]
  },
  {
   "cell_type": "markdown",
   "metadata": {},
   "source": [
    "# Saving model"
   ]
  },
  {
   "cell_type": "code",
   "execution_count": 97,
   "metadata": {
    "execution": {
     "iopub.execute_input": "2022-07-25T15:15:29.150306Z",
     "iopub.status.busy": "2022-07-25T15:15:29.149756Z",
     "iopub.status.idle": "2022-07-25T15:15:29.281635Z",
     "shell.execute_reply": "2022-07-25T15:15:29.280856Z",
     "shell.execute_reply.started": "2022-07-25T15:15:29.150268Z"
    }
   },
   "outputs": [],
   "source": [
    "model.save(\"final_model_new.h5\")"
   ]
  },
  {
   "cell_type": "markdown",
   "metadata": {},
   "source": [
    "## Thank You !!!"
   ]
  }
 ],
 "metadata": {
  "kernelspec": {
   "display_name": "Python 3 (ipykernel)",
   "language": "python",
   "name": "python3"
  },
  "language_info": {
   "codemirror_mode": {
    "name": "ipython",
    "version": 3
   },
   "file_extension": ".py",
   "mimetype": "text/x-python",
   "name": "python",
   "nbconvert_exporter": "python",
   "pygments_lexer": "ipython3",
   "version": "3.8.13"
  }
 },
 "nbformat": 4,
 "nbformat_minor": 4
}
