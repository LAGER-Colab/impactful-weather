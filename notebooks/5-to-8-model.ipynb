{
 "cells": [
  {
   "cell_type": "markdown",
   "id": "105e11cd",
   "metadata": {},
   "source": [
    "# 5 to 8 Model!"
   ]
  },
  {
   "cell_type": "markdown",
   "id": "96396758",
   "metadata": {},
   "source": [
    "## Imports and Setting Up Data"
   ]
  },
  {
   "cell_type": "code",
   "execution_count": 1,
   "id": "356e1a69",
   "metadata": {
    "_cell_guid": "b1076dfc-b9ad-4769-8c92-a6c4dae69d19",
    "_uuid": "8f2839f25d086af736a60e9eeb907d3b93b6e0e5",
    "execution": {
     "iopub.execute_input": "2022-08-23T14:57:41.668815Z",
     "iopub.status.busy": "2022-08-23T14:57:41.668075Z",
     "iopub.status.idle": "2022-08-23T14:57:50.489646Z",
     "shell.execute_reply": "2022-08-23T14:57:50.488300Z"
    },
    "papermill": {
     "duration": 8.83613,
     "end_time": "2022-08-23T14:57:50.492903",
     "exception": false,
     "start_time": "2022-08-23T14:57:41.656773",
     "status": "completed"
    },
    "tags": []
   },
   "outputs": [
    {
     "name": "stderr",
     "output_type": "stream",
     "text": [
      "/opt/conda/lib/python3.7/site-packages/ipykernel_launcher.py:9: TqdmExperimentalWarning: Using `tqdm.autonotebook.tqdm` in notebook mode. Use `tqdm.tqdm` instead to force console mode (e.g. in jupyter console)\n",
      "  if __name__ == \"__main__\":\n"
     ]
    }
   ],
   "source": [
    "import numpy as np\n",
    "import pandas as pd\n",
    "import tensorflow as tf\n",
    "from tensorflow import keras\n",
    "import pickle\n",
    "import matplotlib.pyplot as plt\n",
    "import os\n",
    "import cv2\n",
    "from tqdm.autonotebook import tqdm\n",
    "from keras import layers\n",
    "from keras.callbacks import LearningRateScheduler\n",
    "\n",
    "import torch\n",
    "import math\n",
    "from torch import nn\n",
    "\n",
    "%matplotlib inline"
   ]
  },
  {
   "cell_type": "code",
   "execution_count": 2,
   "id": "4dd0458b",
   "metadata": {
    "execution": {
     "iopub.execute_input": "2022-08-23T14:57:50.510071Z",
     "iopub.status.busy": "2022-08-23T14:57:50.509035Z",
     "iopub.status.idle": "2022-08-23T14:57:53.388804Z",
     "shell.execute_reply": "2022-08-23T14:57:53.387339Z"
    },
    "papermill": {
     "duration": 2.891273,
     "end_time": "2022-08-23T14:57:53.391898",
     "exception": false,
     "start_time": "2022-08-23T14:57:50.500625",
     "status": "completed"
    },
    "tags": []
   },
   "outputs": [],
   "source": [
    "with open(\"../input/weather-data/data.pkl\", \"rb\") as f:\n",
    "    l = pickle.load(f)"
   ]
  },
  {
   "cell_type": "markdown",
   "id": "8cb558c5",
   "metadata": {},
   "source": [
    "The 2 functions below are custom resizers, because cv2 resize gets jank with really low resolutions"
   ]
  },
  {
   "cell_type": "code",
   "execution_count": 3,
   "id": "ca902323",
   "metadata": {
    "execution": {
     "iopub.execute_input": "2022-08-23T14:57:53.412082Z",
     "iopub.status.busy": "2022-08-23T14:57:53.411719Z",
     "iopub.status.idle": "2022-08-23T14:57:53.419692Z",
     "shell.execute_reply": "2022-08-23T14:57:53.418378Z"
    },
    "papermill": {
     "duration": 0.02033,
     "end_time": "2022-08-23T14:57:53.422756",
     "exception": false,
     "start_time": "2022-08-23T14:57:53.402426",
     "status": "completed"
    },
    "tags": []
   },
   "outputs": [],
   "source": [
    "def mean_conv_2(img):\n",
    "    size = 8\n",
    "    stride = 6\n",
    "    ret = np.ones((5,5))\n",
    "    stx=0\n",
    "    for i in range(5):\n",
    "        sty = 0\n",
    "        for j in range(5):\n",
    "            ret[i][j] = np.mean(img[stx:stx+size, sty:sty+size])\n",
    "            sty += stride\n",
    "        stx += stride\n",
    "    \n",
    "    return ret"
   ]
  },
  {
   "cell_type": "code",
   "execution_count": 4,
   "id": "b8f3bee9",
   "metadata": {
    "execution": {
     "iopub.execute_input": "2022-08-23T14:57:53.438991Z",
     "iopub.status.busy": "2022-08-23T14:57:53.438575Z",
     "iopub.status.idle": "2022-08-23T14:57:53.445584Z",
     "shell.execute_reply": "2022-08-23T14:57:53.444175Z"
    },
    "papermill": {
     "duration": 0.018038,
     "end_time": "2022-08-23T14:57:53.448390",
     "exception": false,
     "start_time": "2022-08-23T14:57:53.430352",
     "status": "completed"
    },
    "tags": []
   },
   "outputs": [],
   "source": [
    "def mean_conv(img):\n",
    "    size = 4\n",
    "    stride = 4\n",
    "    ret = np.ones((8,8))\n",
    "    stx=0\n",
    "    for i in range(8):\n",
    "        sty = 0\n",
    "        for j in range(8):\n",
    "            ret[i][j] = np.mean(img[stx:stx+size, sty:sty+size])\n",
    "            sty += stride\n",
    "        stx += stride\n",
    "    \n",
    "    return ret"
   ]
  },
  {
   "cell_type": "code",
   "execution_count": 5,
   "id": "5a05449c",
   "metadata": {
    "execution": {
     "iopub.execute_input": "2022-08-23T14:57:53.465044Z",
     "iopub.status.busy": "2022-08-23T14:57:53.464657Z",
     "iopub.status.idle": "2022-08-23T14:57:55.937745Z",
     "shell.execute_reply": "2022-08-23T14:57:55.936471Z"
    },
    "papermill": {
     "duration": 2.484611,
     "end_time": "2022-08-23T14:57:55.940558",
     "exception": false,
     "start_time": "2022-08-23T14:57:53.455947",
     "status": "completed"
    },
    "tags": []
   },
   "outputs": [
    {
     "data": {
      "application/vnd.jupyter.widget-view+json": {
       "model_id": "3e238e4d16b84cb0a8dc000a95226d87",
       "version_major": 2,
       "version_minor": 0
      },
      "text/plain": [
       "  0%|          | 0/3600 [00:00<?, ?it/s]"
      ]
     },
     "metadata": {},
     "output_type": "display_data"
    }
   ],
   "source": [
    "SIZE = 32\n",
    "high_img = []\n",
    "for i in tqdm(range(len(l))):\n",
    "    img = l[i]\n",
    "    img[np.isnan(img)]=np.mean(img[~np.isnan(img)])\n",
    "    if (i!=0 and np.array_equal(img, previmg)):\n",
    "        continue\n",
    "    previmg = img\n",
    "    #resizing image\n",
    "    img = cv2.resize(img, (SIZE, SIZE))\n",
    "    img = mean_conv(img)\n",
    "    img = img / img.max()\n",
    "    high_img.append(img)"
   ]
  },
  {
   "cell_type": "code",
   "execution_count": 6,
   "id": "836ba626",
   "metadata": {
    "execution": {
     "iopub.execute_input": "2022-08-23T14:57:55.958979Z",
     "iopub.status.busy": "2022-08-23T14:57:55.958591Z",
     "iopub.status.idle": "2022-08-23T14:57:55.984907Z",
     "shell.execute_reply": "2022-08-23T14:57:55.983442Z"
    },
    "papermill": {
     "duration": 0.038449,
     "end_time": "2022-08-23T14:57:55.987580",
     "exception": false,
     "start_time": "2022-08-23T14:57:55.949131",
     "status": "completed"
    },
    "tags": []
   },
   "outputs": [
    {
     "data": {
      "text/plain": [
       "((1984, 8, 8), (1984,))"
      ]
     },
     "execution_count": 6,
     "metadata": {},
     "output_type": "execute_result"
    }
   ],
   "source": [
    "high_img, idx = np.unique(np.array(high_img), axis=0, return_index=True)\n",
    "high_img.shape, idx.shape"
   ]
  },
  {
   "cell_type": "code",
   "execution_count": 7,
   "id": "de268aa6",
   "metadata": {
    "execution": {
     "iopub.execute_input": "2022-08-23T14:57:56.006131Z",
     "iopub.status.busy": "2022-08-23T14:57:56.004755Z",
     "iopub.status.idle": "2022-08-23T14:57:57.053780Z",
     "shell.execute_reply": "2022-08-23T14:57:57.052304Z"
    },
    "papermill": {
     "duration": 1.061807,
     "end_time": "2022-08-23T14:57:57.057466",
     "exception": false,
     "start_time": "2022-08-23T14:57:55.995659",
     "status": "completed"
    },
    "tags": []
   },
   "outputs": [
    {
     "data": {
      "application/vnd.jupyter.widget-view+json": {
       "model_id": "039e5571ea844318b8ca20171b50a6c7",
       "version_major": 2,
       "version_minor": 0
      },
      "text/plain": [
       "  0%|          | 0/3600 [00:00<?, ?it/s]"
      ]
     },
     "metadata": {},
     "output_type": "display_data"
    }
   ],
   "source": [
    "SIZE = 8\n",
    "temp_img = []\n",
    "low_img = []\n",
    "for i in tqdm(range(len(l))):\n",
    "    img = l[i]\n",
    "    img = cv2.resize(img, (32, 32))\n",
    "    img = img / img.max()\n",
    "    if (i!=0 and np.array_equal(img, previmg)):\n",
    "        continue\n",
    "    previmg = img\n",
    "    #resizing image\n",
    "    temp = mean_conv_2(img)\n",
    "    temp_img.append(temp)\n",
    "    img = cv2.resize(temp, (SIZE, SIZE), interpolation=cv2.INTER_CUBIC)\n",
    "    low_img.append(img)"
   ]
  },
  {
   "cell_type": "code",
   "execution_count": 8,
   "id": "65dde57d",
   "metadata": {
    "execution": {
     "iopub.execute_input": "2022-08-23T14:57:57.076524Z",
     "iopub.status.busy": "2022-08-23T14:57:57.076052Z",
     "iopub.status.idle": "2022-08-23T14:57:57.086512Z",
     "shell.execute_reply": "2022-08-23T14:57:57.085271Z"
    },
    "papermill": {
     "duration": 0.022686,
     "end_time": "2022-08-23T14:57:57.089682",
     "exception": false,
     "start_time": "2022-08-23T14:57:57.066996",
     "status": "completed"
    },
    "tags": []
   },
   "outputs": [],
   "source": [
    "high_img = np.array(high_img)\n",
    "low_img = np.array(low_img)\n",
    "temp_img = np.array(temp_img)"
   ]
  },
  {
   "cell_type": "code",
   "execution_count": 9,
   "id": "eefd6f33",
   "metadata": {
    "execution": {
     "iopub.execute_input": "2022-08-23T14:57:57.107130Z",
     "iopub.status.busy": "2022-08-23T14:57:57.106712Z",
     "iopub.status.idle": "2022-08-23T14:57:57.112271Z",
     "shell.execute_reply": "2022-08-23T14:57:57.110727Z"
    },
    "papermill": {
     "duration": 0.01761,
     "end_time": "2022-08-23T14:57:57.115067",
     "exception": false,
     "start_time": "2022-08-23T14:57:57.097457",
     "status": "completed"
    },
    "tags": []
   },
   "outputs": [],
   "source": [
    "temp_img = temp_img[idx]\n",
    "low_img = low_img[idx]"
   ]
  },
  {
   "cell_type": "code",
   "execution_count": 10,
   "id": "d1750599",
   "metadata": {
    "execution": {
     "iopub.execute_input": "2022-08-23T14:57:57.133597Z",
     "iopub.status.busy": "2022-08-23T14:57:57.131575Z",
     "iopub.status.idle": "2022-08-23T14:57:57.141516Z",
     "shell.execute_reply": "2022-08-23T14:57:57.140188Z"
    },
    "papermill": {
     "duration": 0.022022,
     "end_time": "2022-08-23T14:57:57.144703",
     "exception": false,
     "start_time": "2022-08-23T14:57:57.122681",
     "status": "completed"
    },
    "tags": []
   },
   "outputs": [
    {
     "data": {
      "text/plain": [
       "((1984, 8, 8), (1984, 5, 5), (1984, 8, 8))"
      ]
     },
     "execution_count": 10,
     "metadata": {},
     "output_type": "execute_result"
    }
   ],
   "source": [
    "high_img.shape, temp_img.shape, low_img.shape"
   ]
  },
  {
   "cell_type": "code",
   "execution_count": 11,
   "id": "7932e0a7",
   "metadata": {
    "execution": {
     "iopub.execute_input": "2022-08-23T14:57:57.163178Z",
     "iopub.status.busy": "2022-08-23T14:57:57.162778Z",
     "iopub.status.idle": "2022-08-23T14:57:57.168873Z",
     "shell.execute_reply": "2022-08-23T14:57:57.167436Z"
    },
    "papermill": {
     "duration": 0.018348,
     "end_time": "2022-08-23T14:57:57.171515",
     "exception": false,
     "start_time": "2022-08-23T14:57:57.153167",
     "status": "completed"
    },
    "tags": []
   },
   "outputs": [],
   "source": [
    "def unison_shuffled_copies(a, b, c):\n",
    "    assert len(a) == len(b) and len(b) == len(c)\n",
    "    p = np.random.permutation(len(a))\n",
    "    return a[p], b[p], c[p]"
   ]
  },
  {
   "cell_type": "code",
   "execution_count": 12,
   "id": "43c58750",
   "metadata": {
    "execution": {
     "iopub.execute_input": "2022-08-23T14:57:57.189280Z",
     "iopub.status.busy": "2022-08-23T14:57:57.188213Z",
     "iopub.status.idle": "2022-08-23T14:57:57.196933Z",
     "shell.execute_reply": "2022-08-23T14:57:57.195588Z"
    },
    "papermill": {
     "duration": 0.020437,
     "end_time": "2022-08-23T14:57:57.199854",
     "exception": false,
     "start_time": "2022-08-23T14:57:57.179417",
     "status": "completed"
    },
    "tags": []
   },
   "outputs": [],
   "source": [
    "high_img, low_img, temp_img = unison_shuffled_copies(high_img, low_img, temp_img)"
   ]
  },
  {
   "cell_type": "markdown",
   "id": "b0e92f52",
   "metadata": {},
   "source": [
    "Let's see some images"
   ]
  },
  {
   "cell_type": "code",
   "execution_count": 13,
   "id": "6e52f28a",
   "metadata": {
    "execution": {
     "iopub.execute_input": "2022-08-23T14:57:57.217154Z",
     "iopub.status.busy": "2022-08-23T14:57:57.216801Z",
     "iopub.status.idle": "2022-08-23T14:57:59.588994Z",
     "shell.execute_reply": "2022-08-23T14:57:59.587692Z"
    },
    "papermill": {
     "duration": 2.384586,
     "end_time": "2022-08-23T14:57:59.592405",
     "exception": false,
     "start_time": "2022-08-23T14:57:57.207819",
     "status": "completed"
    },
    "tags": []
   },
   "outputs": [
    {
     "data": {
      "image/png": "[encoded data removed]",
      "text/plain": [
       "<Figure size 1440x720 with 6 Axes>"
      ]
     },
     "metadata": {
      "needs_background": "light"
     },
     "output_type": "display_data"
    },
    {
     "data": {
      "image/png": "[encoded data removed]",
      "text/plain": [
       "<Figure size 1440x720 with 6 Axes>"
      ]
     },
     "metadata": {
      "needs_background": "light"
     },
     "output_type": "display_data"
    },
    {
     "data": {
      "image/png": "[encoded data removed]",
      "text/plain": [
       "<Figure size 1440x720 with 6 Axes>"
      ]
     },
     "metadata": {
      "needs_background": "light"
     },
     "output_type": "display_data"
    },
    {
     "data": {
      "image/png": "[encoded data removed]",
      "text/plain": [
       "<Figure size 1440x720 with 6 Axes>"
      ]
     },
     "metadata": {
      "needs_background": "light"
     },
     "output_type": "display_data"
    }
   ],
   "source": [
    "for i in range(4):\n",
    "    a = np.random.randint(0,1984)\n",
    "    plt.figure(figsize=(20,10))\n",
    "    plt.subplot(1,3,1)\n",
    "    plt.title('High Resolution Imge', color = 'green', fontsize = 20)\n",
    "    plt.imshow(high_img[a], vmin=0)\n",
    "    plt.colorbar(fraction=0.046, pad=0.04).ax.set_ylabel(\"mm/h of rainfall\")\n",
    "    plt.axis('off')\n",
    "\n",
    "    plt.subplot(1,3,2)\n",
    "    plt.title('low Resolution Image ', color = 'red', fontsize = 20)\n",
    "    plt.imshow(low_img[a], vmin=0, vmax=high_img[a].max())\n",
    "    plt.colorbar(fraction=0.046, pad=0.04).ax.set_ylabel(\"mm/h of rainfall\")\n",
    "    plt.axis('off')\n",
    "\n",
    "    plt.subplot(1,3,3)\n",
    "    plt.title('temp Resolution Image ', color = 'black', fontsize = 20)\n",
    "    plt.imshow(temp_img[a], vmin=0, vmax=high_img[a].max())\n",
    "    plt.colorbar(fraction=0.046, pad=0.04).ax.set_ylabel(\"mm/h of rainfall\")\n",
    "    plt.axis('off')"
   ]
  },
  {
   "cell_type": "code",
   "execution_count": 14,
   "id": "cf5a7cc2",
   "metadata": {
    "execution": {
     "iopub.execute_input": "2022-08-23T14:57:59.632465Z",
     "iopub.status.busy": "2022-08-23T14:57:59.631693Z",
     "iopub.status.idle": "2022-08-23T14:57:59.666030Z",
     "shell.execute_reply": "2022-08-23T14:57:59.664058Z"
    },
    "papermill": {
     "duration": 0.064664,
     "end_time": "2022-08-23T14:57:59.669676",
     "exception": false,
     "start_time": "2022-08-23T14:57:59.605012",
     "status": "completed"
    },
    "tags": []
   },
   "outputs": [
    {
     "name": "stdout",
     "output_type": "stream",
     "text": [
      "Shape of training images: (1269, 8, 8, 1)\n",
      "Shape of test images: (397, 8, 8, 1)\n",
      "Shape of validation images: (318, 8, 8, 1)\n"
     ]
    }
   ],
   "source": [
    "train_high_image = high_img[:1269]\n",
    "train_low_image = low_img[:1269]\n",
    "train_high_image = np.reshape(train_high_image,(len(train_high_image),SIZE,SIZE,1))\n",
    "train_low_image = np.reshape(train_low_image,(len(train_low_image),SIZE,SIZE,1))\n",
    "\n",
    "validation_high_image = high_img[1269:1587]\n",
    "validation_low_image = low_img[1269:1587]\n",
    "validation_high_image= np.reshape(validation_high_image,(len(validation_high_image),SIZE,SIZE,1))\n",
    "validation_low_image = np.reshape(validation_low_image,(len(validation_low_image),SIZE,SIZE,1))\n",
    "\n",
    "\n",
    "test_high_image = high_img[1587:]\n",
    "test_low_image = low_img[1587:]\n",
    "test_high_image= np.reshape(test_high_image,(len(test_high_image),SIZE,SIZE,1))\n",
    "test_low_image = np.reshape(test_low_image,(len(test_low_image),SIZE,SIZE,1))\n",
    "\n",
    "print(\"Shape of training images:\",train_high_image.shape)\n",
    "print(\"Shape of test images:\",test_high_image.shape)\n",
    "print(\"Shape of validation images:\",validation_high_image.shape)"
   ]
  },
  {
   "cell_type": "markdown",
   "id": "58056aaa",
   "metadata": {},
   "source": [
    "There are multiple classes here, but the only important one is the UNetBlock. The rest were found to cause very high variance."
   ]
  },
  {
   "cell_type": "code",
   "execution_count": 15,
   "id": "f987b572",
   "metadata": {
    "execution": {
     "iopub.execute_input": "2022-08-23T14:57:59.703411Z",
     "iopub.status.busy": "2022-08-23T14:57:59.702740Z",
     "iopub.status.idle": "2022-08-23T14:58:00.485297Z",
     "shell.execute_reply": "2022-08-23T14:58:00.483842Z"
    },
    "papermill": {
     "duration": 0.803031,
     "end_time": "2022-08-23T14:58:00.488729",
     "exception": false,
     "start_time": "2022-08-23T14:57:59.685698",
     "status": "completed"
    },
    "tags": []
   },
   "outputs": [],
   "source": [
    "class ExtrapolateBlock(keras.layers.Layer):\n",
    "    def __init__(self):\n",
    "        super(ExtrapolateBlock, self).__init__()\n",
    "        self.e1 = layers.Conv2D(2,(3,3),padding = 'same', activation='relu')\n",
    "        self.e2 = layers.Conv2D(4,(3,3),padding = 'same', activation='relu')\n",
    "        self.e3 = layers.Conv2D(8,(3,3),padding = 'same', activation='relu')\n",
    "    def call(self, inputs):\n",
    "        ret1 = self.e1(inputs)\n",
    "        ret2 = self.e2(ret1)\n",
    "        ret3 = self.e3(ret2)\n",
    "        return ret3\n",
    "\n",
    "class CompressBlock(keras.layers.Layer):\n",
    "    def __init__(self):\n",
    "        super(CompressBlock, self).__init__()\n",
    "        self.d1 = layers.Conv2D(4,(3,3),padding = 'same', activation='relu')\n",
    "        self.d2 = layers.Conv2D(2,(3,3),padding = 'same', activation='relu')\n",
    "        self.d3 = layers.Conv2D(1,(3,3),padding = 'same', activation='relu')\n",
    "    def call(self, inputs):\n",
    "        ret = self.d1(inputs)\n",
    "        ret = self.d2(ret)\n",
    "        ret = self.d3(ret)\n",
    "        return ret\n",
    "\n",
    "class UNetBlock(keras.layers.Layer):\n",
    "    def __init__(self):\n",
    "        super(UNetBlock, self).__init__()\n",
    "        self.down1 = self.down(128,(3,3),False)\n",
    "        self.down2 = self.down(128,(3,3),False)\n",
    "        self.down3 = self.down(256,(3,3),False)\n",
    "#         self.down4 = self.down(512,(3,3),False)\n",
    "        \n",
    "#         self.up1 = self.up(256,(3,3),False)\n",
    "        self.up2 = self.up(128,(3,3),False)\n",
    "        self.up3 = self.up(128,(3,3),False)\n",
    "        self.up4 = self.up(64,(3,3),False)\n",
    "        \n",
    "        self.out = layers.Conv2D(8, (3,3), padding = 'same', activation='relu')\n",
    "        \n",
    "    def call(self, inputs):\n",
    "        d1 = self.down1(inputs)\n",
    "        d2 = self.down2(d1)\n",
    "        d3 = self.down3(d2)\n",
    "        \n",
    "        u2 = self.up2(d3)\n",
    "        u2 = layers.concatenate([u2, d2])\n",
    "        u3 = self.up3(u2)\n",
    "        u3 = layers.concatenate([u3, d1])\n",
    "        u4 = self.up4(u3)\n",
    "        u4 = layers.concatenate([u4, inputs])\n",
    "        \n",
    "        output = self.out(u4)\n",
    "        return output\n",
    "        \n",
    "    def down(self, filters , kernel_size, apply_batch_normalization = True):\n",
    "        downsample = tf.keras.models.Sequential()\n",
    "        downsample.add(layers.Conv2D(filters,kernel_size,padding = 'same', strides = 2, activation='relu'))\n",
    "        if apply_batch_normalization:\n",
    "            downsample.add(layers.BatchNormalization())\n",
    "        downsample.add(keras.layers.LeakyReLU())\n",
    "        return downsample\n",
    "    \n",
    "    def up(self, filters, kernel_size, dropout = False):\n",
    "        upsample = tf.keras.models.Sequential()\n",
    "        upsample.add(layers.Conv2DTranspose(filters, kernel_size,padding = 'same', strides = 2, activation='relu'))\n",
    "        if dropout:\n",
    "            upsample.dropout(0.2)\n",
    "        upsample.add(keras.layers.LeakyReLU())\n",
    "        return upsample"
   ]
  },
  {
   "cell_type": "markdown",
   "id": "9d5473b9",
   "metadata": {},
   "source": [
    "Previous attempted models, for reference"
   ]
  },
  {
   "cell_type": "code",
   "execution_count": 16,
   "id": "5b976b9e",
   "metadata": {
    "execution": {
     "iopub.execute_input": "2022-08-23T14:58:00.509732Z",
     "iopub.status.busy": "2022-08-23T14:58:00.509392Z",
     "iopub.status.idle": "2022-08-23T14:58:00.516331Z",
     "shell.execute_reply": "2022-08-23T14:58:00.514887Z"
    },
    "papermill": {
     "duration": 0.020494,
     "end_time": "2022-08-23T14:58:00.518863",
     "exception": false,
     "start_time": "2022-08-23T14:58:00.498369",
     "status": "completed"
    },
    "tags": []
   },
   "outputs": [],
   "source": [
    "# def seq_model(euc_rep=1, unet_rep=1):\n",
    "#     assert euc_rep > 0\n",
    "#     assert unet_rep > 0\n",
    "#     model = keras.Sequential()\n",
    "#     model.add(layers.Input(shape=[SIZE,SIZE,1]))\n",
    "#     for i in range(euc_rep):\n",
    "#         model.add(ExtrapolateBlock())\n",
    "        \n",
    "#         for j in range(unet_rep):\n",
    "#             model.add(UNetBlock())\n",
    "            \n",
    "#         model.add(CompressBlock())\n",
    "    \n",
    "#     return model"
   ]
  },
  {
   "cell_type": "code",
   "execution_count": 17,
   "id": "f12c9297",
   "metadata": {
    "execution": {
     "iopub.execute_input": "2022-08-23T14:58:00.539763Z",
     "iopub.status.busy": "2022-08-23T14:58:00.538617Z",
     "iopub.status.idle": "2022-08-23T14:58:00.546799Z",
     "shell.execute_reply": "2022-08-23T14:58:00.545457Z"
    },
    "papermill": {
     "duration": 0.021527,
     "end_time": "2022-08-23T14:58:00.549583",
     "exception": false,
     "start_time": "2022-08-23T14:58:00.528056",
     "status": "completed"
    },
    "tags": []
   },
   "outputs": [],
   "source": [
    "# def non_seq_model():\n",
    "#     # The plan is to add more of these but then also add skip connections (hence no sequential)\n",
    "#     inputs = layers.Input(shape=[SIZE,SIZE,1])\n",
    "#     extr = ExtrapolateBlock()(inputs)\n",
    "#     unet = UNetBlock()(extr)\n",
    "#     comp = CompressBlock()(unet)\n",
    "# #     comp2 = layers.concatenate([comp2, inputs])\n",
    "#     conv = layers.Conv2D(1, (2,2), padding = 'same', activation='relu')(comp)\n",
    "#     return tf.keras.Model(inputs=inputs, outputs=conv)"
   ]
  },
  {
   "cell_type": "markdown",
   "id": "d3f6b65b",
   "metadata": {},
   "source": [
    "SRCNN model below, incase you were wondering."
   ]
  },
  {
   "cell_type": "code",
   "execution_count": 18,
   "id": "195dddee",
   "metadata": {
    "execution": {
     "iopub.execute_input": "2022-08-23T14:58:00.570185Z",
     "iopub.status.busy": "2022-08-23T14:58:00.569870Z",
     "iopub.status.idle": "2022-08-23T14:58:00.578019Z",
     "shell.execute_reply": "2022-08-23T14:58:00.576608Z"
    },
    "papermill": {
     "duration": 0.021782,
     "end_time": "2022-08-23T14:58:00.580956",
     "exception": false,
     "start_time": "2022-08-23T14:58:00.559174",
     "status": "completed"
    },
    "tags": []
   },
   "outputs": [],
   "source": [
    "# def srcnn_model():\n",
    "#     model = keras.Sequential()\n",
    "#     model.add(layers.Input(shape=[SIZE,SIZE,1]))\n",
    "#     model.add(layers.Conv2D(64, (9,9), padding='same', activation='relu'))\n",
    "#     model.add(layers.Conv2D(32, (5,5), padding='same', activation='relu'))    \n",
    "#     model.add(layers.Conv2D(1, (5,5), padding='same', activation='relu'))\n",
    "#     return model"
   ]
  },
  {
   "cell_type": "markdown",
   "id": "01c85642",
   "metadata": {},
   "source": [
    "Here it is, the UNet Model!"
   ]
  },
  {
   "cell_type": "code",
   "execution_count": 19,
   "id": "600d12e8",
   "metadata": {
    "execution": {
     "iopub.execute_input": "2022-08-23T14:58:00.600214Z",
     "iopub.status.busy": "2022-08-23T14:58:00.599879Z",
     "iopub.status.idle": "2022-08-23T14:58:00.606992Z",
     "shell.execute_reply": "2022-08-23T14:58:00.605570Z"
    },
    "papermill": {
     "duration": 0.020116,
     "end_time": "2022-08-23T14:58:00.609651",
     "exception": false,
     "start_time": "2022-08-23T14:58:00.589535",
     "status": "completed"
    },
    "tags": []
   },
   "outputs": [],
   "source": [
    "def unet_model():\n",
    "    model = keras.Sequential()\n",
    "    model.add(layers.Input(shape=[SIZE,SIZE,1]))\n",
    "    model.add(UNetBlock())\n",
    "    model.add(layers.Conv2D(1, (1,1), padding='same', activation='relu'))\n",
    "    \n",
    "    return model"
   ]
  },
  {
   "cell_type": "code",
   "execution_count": 20,
   "id": "2eda285e",
   "metadata": {
    "execution": {
     "iopub.execute_input": "2022-08-23T14:58:00.629085Z",
     "iopub.status.busy": "2022-08-23T14:58:00.628789Z",
     "iopub.status.idle": "2022-08-23T14:58:08.427278Z",
     "shell.execute_reply": "2022-08-23T14:58:08.425559Z"
    },
    "papermill": {
     "duration": 7.812023,
     "end_time": "2022-08-23T14:58:08.431183",
     "exception": false,
     "start_time": "2022-08-23T14:58:00.619160",
     "status": "completed"
    },
    "tags": []
   },
   "outputs": [
    {
     "name": "stderr",
     "output_type": "stream",
     "text": [
      "2022-08-23 14:58:00.751878: I tensorflow/stream_executor/cuda/cuda_gpu_executor.cc:937] successful NUMA node read from SysFS had negative value (-1), but there must be at least one NUMA node, so returning NUMA node zero\n",
      "2022-08-23 14:58:00.756527: I tensorflow/stream_executor/cuda/cuda_gpu_executor.cc:937] successful NUMA node read from SysFS had negative value (-1), but there must be at least one NUMA node, so returning NUMA node zero\n",
      "2022-08-23 14:58:00.760443: I tensorflow/stream_executor/cuda/cuda_gpu_executor.cc:937] successful NUMA node read from SysFS had negative value (-1), but there must be at least one NUMA node, so returning NUMA node zero\n",
      "2022-08-23 14:58:00.766210: I tensorflow/core/platform/cpu_feature_guard.cc:142] This TensorFlow binary is optimized with oneAPI Deep Neural Network Library (oneDNN) to use the following CPU instructions in performance-critical operations:  AVX2 FMA\n",
      "To enable them in other operations, rebuild TensorFlow with the appropriate compiler flags.\n",
      "2022-08-23 14:58:00.766700: I tensorflow/stream_executor/cuda/cuda_gpu_executor.cc:937] successful NUMA node read from SysFS had negative value (-1), but there must be at least one NUMA node, so returning NUMA node zero\n",
      "2022-08-23 14:58:00.771668: I tensorflow/stream_executor/cuda/cuda_gpu_executor.cc:937] successful NUMA node read from SysFS had negative value (-1), but there must be at least one NUMA node, so returning NUMA node zero\n",
      "2022-08-23 14:58:00.775951: I tensorflow/stream_executor/cuda/cuda_gpu_executor.cc:937] successful NUMA node read from SysFS had negative value (-1), but there must be at least one NUMA node, so returning NUMA node zero\n",
      "2022-08-23 14:58:07.375913: I tensorflow/stream_executor/cuda/cuda_gpu_executor.cc:937] successful NUMA node read from SysFS had negative value (-1), but there must be at least one NUMA node, so returning NUMA node zero\n",
      "2022-08-23 14:58:07.379744: I tensorflow/stream_executor/cuda/cuda_gpu_executor.cc:937] successful NUMA node read from SysFS had negative value (-1), but there must be at least one NUMA node, so returning NUMA node zero\n",
      "2022-08-23 14:58:07.383383: I tensorflow/stream_executor/cuda/cuda_gpu_executor.cc:937] successful NUMA node read from SysFS had negative value (-1), but there must be at least one NUMA node, so returning NUMA node zero\n",
      "2022-08-23 14:58:07.387129: I tensorflow/core/common_runtime/gpu/gpu_device.cc:1510] Created device /job:localhost/replica:0/task:0/device:GPU:0 with 15047 MB memory:  -> device: 0, name: Tesla P100-PCIE-16GB, pci bus id: 0000:00:04.0, compute capability: 6.0\n"
     ]
    },
    {
     "name": "stdout",
     "output_type": "stream",
     "text": [
      "Model: \"sequential\"\n",
      "_________________________________________________________________\n",
      "Layer (type)                 Output Shape              Param #   \n",
      "=================================================================\n",
      "u_net_block (UNetBlock)      (None, 8, 8, 8)           1186320   \n",
      "_________________________________________________________________\n",
      "conv2d_4 (Conv2D)            (None, 8, 8, 1)           9         \n",
      "=================================================================\n",
      "Total params: 1,186,329\n",
      "Trainable params: 1,186,329\n",
      "Non-trainable params: 0\n",
      "_________________________________________________________________\n"
     ]
    }
   ],
   "source": [
    "model = unet_model()\n",
    "model.summary()"
   ]
  },
  {
   "cell_type": "markdown",
   "id": "8f3684ba",
   "metadata": {},
   "source": [
    "We compile with Adam with an lr of 0.001 and a standard epsilon. The loss is MAE, and we have an additional metric of RMSE."
   ]
  },
  {
   "cell_type": "code",
   "execution_count": 21,
   "id": "d2844f85",
   "metadata": {
    "execution": {
     "iopub.execute_input": "2022-08-23T14:58:08.455838Z",
     "iopub.status.busy": "2022-08-23T14:58:08.453666Z",
     "iopub.status.idle": "2022-08-23T14:58:08.472638Z",
     "shell.execute_reply": "2022-08-23T14:58:08.471293Z"
    },
    "papermill": {
     "duration": 0.032692,
     "end_time": "2022-08-23T14:58:08.475460",
     "exception": false,
     "start_time": "2022-08-23T14:58:08.442768",
     "status": "completed"
    },
    "tags": []
   },
   "outputs": [],
   "source": [
    "model.compile(optimizer = tf.keras.optimizers.Adam(learning_rate = 0.001, epsilon=1e-08), loss = 'mean_absolute_error',\n",
    "              metrics = [tf.keras.metrics.RootMeanSquaredError()])"
   ]
  },
  {
   "cell_type": "code",
   "execution_count": 22,
   "id": "3b568fea",
   "metadata": {
    "execution": {
     "iopub.execute_input": "2022-08-23T14:58:08.496498Z",
     "iopub.status.busy": "2022-08-23T14:58:08.496080Z",
     "iopub.status.idle": "2022-08-23T14:58:08.502362Z",
     "shell.execute_reply": "2022-08-23T14:58:08.501007Z"
    },
    "papermill": {
     "duration": 0.020174,
     "end_time": "2022-08-23T14:58:08.504861",
     "exception": false,
     "start_time": "2022-08-23T14:58:08.484687",
     "status": "completed"
    },
    "tags": []
   },
   "outputs": [],
   "source": [
    "# first_decay_steps = 20\n",
    "# lr_decayed_fn = (\n",
    "#   tf.keras.optimizers.schedules.CosineDecayRestarts(\n",
    "#       0.001,\n",
    "#       first_decay_steps,\n",
    "#       alpha=0.01\n",
    "#   ))\n",
    "# lr = LearningRateScheduler(lr_decayed_fn)"
   ]
  },
  {
   "cell_type": "code",
   "execution_count": 23,
   "id": "c0631faf",
   "metadata": {
    "execution": {
     "iopub.execute_input": "2022-08-23T14:58:08.527193Z",
     "iopub.status.busy": "2022-08-23T14:58:08.525912Z",
     "iopub.status.idle": "2022-08-23T14:58:08.532954Z",
     "shell.execute_reply": "2022-08-23T14:58:08.531633Z"
    },
    "papermill": {
     "duration": 0.020918,
     "end_time": "2022-08-23T14:58:08.535923",
     "exception": false,
     "start_time": "2022-08-23T14:58:08.515005",
     "status": "completed"
    },
    "tags": []
   },
   "outputs": [],
   "source": [
    "checkpoint_filepath = 'md_5_8_best'\n",
    "model_checkpoint_callback = tf.keras.callbacks.ModelCheckpoint(\n",
    "    filepath=checkpoint_filepath,\n",
    "    save_weights_only=True,\n",
    "    monitor='val_root_mean_squared_error',\n",
    "    mode='min',\n",
    "    save_best_only=True)"
   ]
  },
  {
   "cell_type": "markdown",
   "id": "ace90072",
   "metadata": {},
   "source": [
    "Training the model while saving the best validation scores"
   ]
  },
  {
   "cell_type": "code",
   "execution_count": 24,
   "id": "f9add367",
   "metadata": {
    "_kg_hide-input": false,
    "_kg_hide-output": false,
    "execution": {
     "iopub.execute_input": "2022-08-23T14:58:08.558611Z",
     "iopub.status.busy": "2022-08-23T14:58:08.556739Z",
     "iopub.status.idle": "2022-08-23T15:00:31.497665Z",
     "shell.execute_reply": "2022-08-23T15:00:31.496337Z"
    },
    "papermill": {
     "duration": 142.954998,
     "end_time": "2022-08-23T15:00:31.500991",
     "exception": false,
     "start_time": "2022-08-23T14:58:08.545993",
     "status": "completed"
    },
    "tags": []
   },
   "outputs": [
    {
     "name": "stderr",
     "output_type": "stream",
     "text": [
      "2022-08-23 14:58:08.634499: I tensorflow/compiler/mlir/mlir_graph_optimization_pass.cc:185] None of the MLIR Optimization Passes are enabled (registered 2)\n"
     ]
    },
    {
     "name": "stdout",
     "output_type": "stream",
     "text": [
      "Epoch 1/60\n"
     ]
    },
    {
     "name": "stderr",
     "output_type": "stream",
     "text": [
      "2022-08-23 14:58:10.745680: I tensorflow/stream_executor/cuda/cuda_dnn.cc:369] Loaded cuDNN version 8005\n"
     ]
    },
    {
     "name": "stdout",
     "output_type": "stream",
     "text": [
      "159/159 [==============================] - 11s 10ms/step - loss: 0.1199 - root_mean_squared_error: 0.1764 - val_loss: 0.0879 - val_root_mean_squared_error: 0.1221\n",
      "Epoch 2/60\n",
      "159/159 [==============================] - 1s 7ms/step - loss: 0.0828 - root_mean_squared_error: 0.1205 - val_loss: 0.0725 - val_root_mean_squared_error: 0.1091\n",
      "Epoch 3/60\n",
      "159/159 [==============================] - 1s 7ms/step - loss: 0.0727 - root_mean_squared_error: 0.1084 - val_loss: 0.0658 - val_root_mean_squared_error: 0.0995\n",
      "Epoch 4/60\n",
      "159/159 [==============================] - 1s 7ms/step - loss: 0.0662 - root_mean_squared_error: 0.0997 - val_loss: 0.0610 - val_root_mean_squared_error: 0.0940\n",
      "Epoch 5/60\n",
      "159/159 [==============================] - 1s 8ms/step - loss: 0.0631 - root_mean_squared_error: 0.0955 - val_loss: 0.0695 - val_root_mean_squared_error: 0.1032\n",
      "Epoch 6/60\n",
      "159/159 [==============================] - 2s 11ms/step - loss: 0.0606 - root_mean_squared_error: 0.0921 - val_loss: 0.0596 - val_root_mean_squared_error: 0.0910\n",
      "Epoch 7/60\n",
      "159/159 [==============================] - 1s 8ms/step - loss: 0.0592 - root_mean_squared_error: 0.0900 - val_loss: 0.0568 - val_root_mean_squared_error: 0.0870\n",
      "Epoch 8/60\n",
      "159/159 [==============================] - 1s 8ms/step - loss: 0.0567 - root_mean_squared_error: 0.0867 - val_loss: 0.0544 - val_root_mean_squared_error: 0.0866\n",
      "Epoch 9/60\n",
      "159/159 [==============================] - 1s 7ms/step - loss: 0.0532 - root_mean_squared_error: 0.0826 - val_loss: 0.0538 - val_root_mean_squared_error: 0.0844\n",
      "Epoch 10/60\n",
      "159/159 [==============================] - 1s 7ms/step - loss: 0.0527 - root_mean_squared_error: 0.0813 - val_loss: 0.0537 - val_root_mean_squared_error: 0.0842\n",
      "Epoch 11/60\n",
      "159/159 [==============================] - 1s 8ms/step - loss: 0.0524 - root_mean_squared_error: 0.0808 - val_loss: 0.0524 - val_root_mean_squared_error: 0.0822\n",
      "Epoch 12/60\n",
      "159/159 [==============================] - 1s 7ms/step - loss: 0.0503 - root_mean_squared_error: 0.0783 - val_loss: 0.0521 - val_root_mean_squared_error: 0.0805\n",
      "Epoch 13/60\n",
      "159/159 [==============================] - 1s 8ms/step - loss: 0.0498 - root_mean_squared_error: 0.0773 - val_loss: 0.0536 - val_root_mean_squared_error: 0.0837\n",
      "Epoch 14/60\n",
      "159/159 [==============================] - 2s 10ms/step - loss: 0.0476 - root_mean_squared_error: 0.0748 - val_loss: 0.0506 - val_root_mean_squared_error: 0.0793\n",
      "Epoch 15/60\n",
      "159/159 [==============================] - 1s 7ms/step - loss: 0.0472 - root_mean_squared_error: 0.0745 - val_loss: 0.0555 - val_root_mean_squared_error: 0.0829\n",
      "Epoch 16/60\n",
      "159/159 [==============================] - 1s 8ms/step - loss: 0.0478 - root_mean_squared_error: 0.0741 - val_loss: 0.0516 - val_root_mean_squared_error: 0.0801\n",
      "Epoch 17/60\n",
      "159/159 [==============================] - 1s 7ms/step - loss: 0.0450 - root_mean_squared_error: 0.0711 - val_loss: 0.0521 - val_root_mean_squared_error: 0.0820\n",
      "Epoch 18/60\n",
      "159/159 [==============================] - 1s 7ms/step - loss: 0.0444 - root_mean_squared_error: 0.0702 - val_loss: 0.0488 - val_root_mean_squared_error: 0.0770\n",
      "Epoch 19/60\n",
      "159/159 [==============================] - 1s 7ms/step - loss: 0.0432 - root_mean_squared_error: 0.0684 - val_loss: 0.0503 - val_root_mean_squared_error: 0.0786\n",
      "Epoch 20/60\n",
      "159/159 [==============================] - 1s 7ms/step - loss: 0.0426 - root_mean_squared_error: 0.0675 - val_loss: 0.0491 - val_root_mean_squared_error: 0.0775\n",
      "Epoch 21/60\n",
      "159/159 [==============================] - 1s 7ms/step - loss: 0.0419 - root_mean_squared_error: 0.0667 - val_loss: 0.0505 - val_root_mean_squared_error: 0.0788\n",
      "Epoch 22/60\n",
      "159/159 [==============================] - 1s 7ms/step - loss: 0.0421 - root_mean_squared_error: 0.0665 - val_loss: 0.0498 - val_root_mean_squared_error: 0.0780\n",
      "Epoch 23/60\n",
      "159/159 [==============================] - 2s 10ms/step - loss: 0.0416 - root_mean_squared_error: 0.0655 - val_loss: 0.0502 - val_root_mean_squared_error: 0.0781\n",
      "Epoch 24/60\n",
      "159/159 [==============================] - 1s 8ms/step - loss: 0.0398 - root_mean_squared_error: 0.0637 - val_loss: 0.0494 - val_root_mean_squared_error: 0.0776\n",
      "Epoch 25/60\n",
      "159/159 [==============================] - 1s 7ms/step - loss: 0.0395 - root_mean_squared_error: 0.0628 - val_loss: 0.0502 - val_root_mean_squared_error: 0.0783\n",
      "Epoch 26/60\n",
      "159/159 [==============================] - 1s 7ms/step - loss: 0.0387 - root_mean_squared_error: 0.0617 - val_loss: 0.0492 - val_root_mean_squared_error: 0.0775\n",
      "Epoch 27/60\n",
      "159/159 [==============================] - 1s 7ms/step - loss: 0.0385 - root_mean_squared_error: 0.0613 - val_loss: 0.0506 - val_root_mean_squared_error: 0.0793\n",
      "Epoch 28/60\n",
      "159/159 [==============================] - 1s 8ms/step - loss: 0.0375 - root_mean_squared_error: 0.0597 - val_loss: 0.0481 - val_root_mean_squared_error: 0.0759\n",
      "Epoch 29/60\n",
      "159/159 [==============================] - 1s 7ms/step - loss: 0.0362 - root_mean_squared_error: 0.0581 - val_loss: 0.0492 - val_root_mean_squared_error: 0.0772\n",
      "Epoch 30/60\n",
      "159/159 [==============================] - 1s 7ms/step - loss: 0.0356 - root_mean_squared_error: 0.0570 - val_loss: 0.0486 - val_root_mean_squared_error: 0.0765\n",
      "Epoch 31/60\n",
      "159/159 [==============================] - 1s 7ms/step - loss: 0.0352 - root_mean_squared_error: 0.0562 - val_loss: 0.0501 - val_root_mean_squared_error: 0.0778\n",
      "Epoch 32/60\n",
      "159/159 [==============================] - 2s 10ms/step - loss: 0.0337 - root_mean_squared_error: 0.0544 - val_loss: 0.0492 - val_root_mean_squared_error: 0.0770\n",
      "Epoch 33/60\n",
      "159/159 [==============================] - 1s 7ms/step - loss: 0.0335 - root_mean_squared_error: 0.0536 - val_loss: 0.0503 - val_root_mean_squared_error: 0.0781\n",
      "Epoch 34/60\n",
      "159/159 [==============================] - 2s 10ms/step - loss: 0.0334 - root_mean_squared_error: 0.0535 - val_loss: 0.0487 - val_root_mean_squared_error: 0.0765\n",
      "Epoch 35/60\n",
      "159/159 [==============================] - 1s 8ms/step - loss: 0.0322 - root_mean_squared_error: 0.0516 - val_loss: 0.0491 - val_root_mean_squared_error: 0.0767\n",
      "Epoch 36/60\n",
      "159/159 [==============================] - 1s 7ms/step - loss: 0.0318 - root_mean_squared_error: 0.0511 - val_loss: 0.0485 - val_root_mean_squared_error: 0.0759\n",
      "Epoch 37/60\n",
      "159/159 [==============================] - 1s 7ms/step - loss: 0.0313 - root_mean_squared_error: 0.0501 - val_loss: 0.0489 - val_root_mean_squared_error: 0.0774\n",
      "Epoch 38/60\n",
      "159/159 [==============================] - 1s 7ms/step - loss: 0.0308 - root_mean_squared_error: 0.0494 - val_loss: 0.0508 - val_root_mean_squared_error: 0.0781\n",
      "Epoch 39/60\n",
      "159/159 [==============================] - 1s 7ms/step - loss: 0.0305 - root_mean_squared_error: 0.0488 - val_loss: 0.0495 - val_root_mean_squared_error: 0.0774\n",
      "Epoch 40/60\n",
      "159/159 [==============================] - 2s 10ms/step - loss: 0.0300 - root_mean_squared_error: 0.0480 - val_loss: 0.0486 - val_root_mean_squared_error: 0.0768\n",
      "Epoch 41/60\n",
      "159/159 [==============================] - 1s 7ms/step - loss: 0.0293 - root_mean_squared_error: 0.0469 - val_loss: 0.0493 - val_root_mean_squared_error: 0.0773\n",
      "Epoch 42/60\n",
      "159/159 [==============================] - 1s 7ms/step - loss: 0.0286 - root_mean_squared_error: 0.0460 - val_loss: 0.0497 - val_root_mean_squared_error: 0.0775\n",
      "Epoch 43/60\n",
      "159/159 [==============================] - 1s 7ms/step - loss: 0.0280 - root_mean_squared_error: 0.0448 - val_loss: 0.0499 - val_root_mean_squared_error: 0.0784\n",
      "Epoch 44/60\n",
      "159/159 [==============================] - 1s 7ms/step - loss: 0.0275 - root_mean_squared_error: 0.0441 - val_loss: 0.0485 - val_root_mean_squared_error: 0.0762\n",
      "Epoch 45/60\n",
      "159/159 [==============================] - 1s 7ms/step - loss: 0.0267 - root_mean_squared_error: 0.0430 - val_loss: 0.0501 - val_root_mean_squared_error: 0.0781\n",
      "Epoch 46/60\n",
      "159/159 [==============================] - 1s 7ms/step - loss: 0.0265 - root_mean_squared_error: 0.0425 - val_loss: 0.0494 - val_root_mean_squared_error: 0.0776\n",
      "Epoch 47/60\n",
      "159/159 [==============================] - 1s 7ms/step - loss: 0.0263 - root_mean_squared_error: 0.0422 - val_loss: 0.0501 - val_root_mean_squared_error: 0.0786\n",
      "Epoch 48/60\n",
      "159/159 [==============================] - 1s 7ms/step - loss: 0.0252 - root_mean_squared_error: 0.0406 - val_loss: 0.0491 - val_root_mean_squared_error: 0.0769\n",
      "Epoch 49/60\n",
      "159/159 [==============================] - 2s 10ms/step - loss: 0.0255 - root_mean_squared_error: 0.0407 - val_loss: 0.0487 - val_root_mean_squared_error: 0.0771\n",
      "Epoch 50/60\n",
      "159/159 [==============================] - 1s 7ms/step - loss: 0.0263 - root_mean_squared_error: 0.0414 - val_loss: 0.0518 - val_root_mean_squared_error: 0.0796\n",
      "Epoch 51/60\n",
      "159/159 [==============================] - 1s 7ms/step - loss: 0.0248 - root_mean_squared_error: 0.0395 - val_loss: 0.0486 - val_root_mean_squared_error: 0.0767\n",
      "Epoch 52/60\n",
      "159/159 [==============================] - 1s 7ms/step - loss: 0.0242 - root_mean_squared_error: 0.0387 - val_loss: 0.0492 - val_root_mean_squared_error: 0.0774\n",
      "Epoch 53/60\n",
      "159/159 [==============================] - 1s 7ms/step - loss: 0.0246 - root_mean_squared_error: 0.0390 - val_loss: 0.0503 - val_root_mean_squared_error: 0.0789\n",
      "Epoch 54/60\n",
      "159/159 [==============================] - 1s 7ms/step - loss: 0.0242 - root_mean_squared_error: 0.0383 - val_loss: 0.0492 - val_root_mean_squared_error: 0.0777\n",
      "Epoch 55/60\n",
      "159/159 [==============================] - 1s 7ms/step - loss: 0.0225 - root_mean_squared_error: 0.0361 - val_loss: 0.0491 - val_root_mean_squared_error: 0.0779\n",
      "Epoch 56/60\n",
      "159/159 [==============================] - 1s 9ms/step - loss: 0.0227 - root_mean_squared_error: 0.0362 - val_loss: 0.0499 - val_root_mean_squared_error: 0.0782\n",
      "Epoch 57/60\n",
      "159/159 [==============================] - 1s 7ms/step - loss: 0.0236 - root_mean_squared_error: 0.0371 - val_loss: 0.0495 - val_root_mean_squared_error: 0.0776\n",
      "Epoch 58/60\n",
      "159/159 [==============================] - 1s 9ms/step - loss: 0.0223 - root_mean_squared_error: 0.0354 - val_loss: 0.0494 - val_root_mean_squared_error: 0.0775\n",
      "Epoch 59/60\n",
      "159/159 [==============================] - 1s 7ms/step - loss: 0.0222 - root_mean_squared_error: 0.0352 - val_loss: 0.0497 - val_root_mean_squared_error: 0.0782\n",
      "Epoch 60/60\n",
      "159/159 [==============================] - 1s 7ms/step - loss: 0.0219 - root_mean_squared_error: 0.0345 - val_loss: 0.0495 - val_root_mean_squared_error: 0.0779\n"
     ]
    }
   ],
   "source": [
    "hist = model.fit(train_low_image, train_high_image, epochs = 60, batch_size = 8,\n",
    "        validation_data = (validation_low_image,validation_high_image),\n",
    "        callbacks=[model_checkpoint_callback]\n",
    "                )"
   ]
  },
  {
   "cell_type": "code",
   "execution_count": 25,
   "id": "a1308ebe",
   "metadata": {
    "execution": {
     "iopub.execute_input": "2022-08-23T15:00:31.679023Z",
     "iopub.status.busy": "2022-08-23T15:00:31.678651Z",
     "iopub.status.idle": "2022-08-23T15:00:31.918398Z",
     "shell.execute_reply": "2022-08-23T15:00:31.917121Z"
    },
    "papermill": {
     "duration": 0.332771,
     "end_time": "2022-08-23T15:00:31.921123",
     "exception": false,
     "start_time": "2022-08-23T15:00:31.588352",
     "status": "completed"
    },
    "tags": []
   },
   "outputs": [
    {
     "data": {
      "image/png": "[encoded data removed]",
      "text/plain": [
       "<Figure size 432x288 with 1 Axes>"
      ]
     },
     "metadata": {
      "needs_background": "light"
     },
     "output_type": "display_data"
    }
   ],
   "source": [
    "plt.plot(hist.history['loss'])\n",
    "plt.plot(hist.history['val_loss'])\n",
    "plt.title('model loss')\n",
    "plt.ylabel('loss')\n",
    "plt.xlabel('epoch')\n",
    "plt.legend(['train', 'val'], loc='upper left')\n",
    "plt.show()"
   ]
  },
  {
   "cell_type": "code",
   "execution_count": 26,
   "id": "632ebfc1",
   "metadata": {
    "execution": {
     "iopub.execute_input": "2022-08-23T15:00:32.097677Z",
     "iopub.status.busy": "2022-08-23T15:00:32.097170Z",
     "iopub.status.idle": "2022-08-23T15:00:32.342050Z",
     "shell.execute_reply": "2022-08-23T15:00:32.340642Z"
    },
    "papermill": {
     "duration": 0.336857,
     "end_time": "2022-08-23T15:00:32.344926",
     "exception": false,
     "start_time": "2022-08-23T15:00:32.008069",
     "status": "completed"
    },
    "tags": []
   },
   "outputs": [
    {
     "data": {
      "image/png": "[encoded data removed]",
      "text/plain": [
       "<Figure size 432x288 with 1 Axes>"
      ]
     },
     "metadata": {
      "needs_background": "light"
     },
     "output_type": "display_data"
    }
   ],
   "source": [
    "plt.plot(hist.history['root_mean_squared_error'])\n",
    "plt.plot(hist.history['val_root_mean_squared_error'])\n",
    "plt.title('model RMSE')\n",
    "plt.ylabel('loss')\n",
    "plt.xlabel('epoch')\n",
    "plt.legend(['train', 'val'], loc='upper left')\n",
    "plt.show()"
   ]
  },
  {
   "cell_type": "markdown",
   "id": "33bca496",
   "metadata": {},
   "source": [
    "Let's load the weights of the best model (according to the validation rmse)"
   ]
  },
  {
   "cell_type": "code",
   "execution_count": 27,
   "id": "47e4bb1f",
   "metadata": {
    "execution": {
     "iopub.execute_input": "2022-08-23T15:00:32.523941Z",
     "iopub.status.busy": "2022-08-23T15:00:32.522750Z",
     "iopub.status.idle": "2022-08-23T15:00:32.606805Z",
     "shell.execute_reply": "2022-08-23T15:00:32.605392Z"
    },
    "papermill": {
     "duration": 0.175207,
     "end_time": "2022-08-23T15:00:32.609697",
     "exception": false,
     "start_time": "2022-08-23T15:00:32.434490",
     "status": "completed"
    },
    "tags": []
   },
   "outputs": [
    {
     "data": {
      "text/plain": [
       "<tensorflow.python.training.tracking.util.CheckpointLoadStatus at 0x7fc1c8e9c290>"
      ]
     },
     "execution_count": 27,
     "metadata": {},
     "output_type": "execute_result"
    }
   ],
   "source": [
    "model.load_weights(checkpoint_filepath)"
   ]
  },
  {
   "cell_type": "markdown",
   "id": "d68f7886",
   "metadata": {},
   "source": [
    "Let's see how it did (visually)!"
   ]
  },
  {
   "cell_type": "code",
   "execution_count": 28,
   "id": "d628c7da",
   "metadata": {
    "execution": {
     "iopub.execute_input": "2022-08-23T15:00:32.794899Z",
     "iopub.status.busy": "2022-08-23T15:00:32.792676Z",
     "iopub.status.idle": "2022-08-23T15:00:39.260829Z",
     "shell.execute_reply": "2022-08-23T15:00:39.259315Z"
    },
    "papermill": {
     "duration": 6.561514,
     "end_time": "2022-08-23T15:00:39.263552",
     "exception": false,
     "start_time": "2022-08-23T15:00:32.702038",
     "status": "completed"
    },
    "tags": []
   },
   "outputs": [
    {
     "data": {
      "image/png": "[encoded data removed]",
      "text/plain": [
       "<Figure size 2160x2160 with 4 Axes>"
      ]
     },
     "metadata": {
      "needs_background": "light"
     },
     "output_type": "display_data"
    },
    {
     "data": {
      "image/png": "[encoded data removed]",
      "text/plain": [
       "<Figure size 2160x2160 with 4 Axes>"
      ]
     },
     "metadata": {
      "needs_background": "light"
     },
     "output_type": "display_data"
    },
    {
     "data": {
      "image/png": "[encoded data removed]",
      "text/plain": [
       "<Figure size 2160x2160 with 4 Axes>"
      ]
     },
     "metadata": {
      "needs_background": "light"
     },
     "output_type": "display_data"
    },
    {
     "data": {
      "image/png": "[encoded data removed]",
      "text/plain": [
       "<Figure size 2160x2160 with 4 Axes>"
      ]
     },
     "metadata": {
      "needs_background": "light"
     },
     "output_type": "display_data"
    },
    {
     "data": {
      "image/png": "[encoded data removed]",
      "text/plain": [
       "<Figure size 2160x2160 with 4 Axes>"
      ]
     },
     "metadata": {
      "needs_background": "light"
     },
     "output_type": "display_data"
    },
    {
     "data": {
      "image/png": "[encoded data removed]",
      "text/plain": [
       "<Figure size 2160x2160 with 4 Axes>"
      ]
     },
     "metadata": {
      "needs_background": "light"
     },
     "output_type": "display_data"
    },
    {
     "data": {
      "image/png": "[encoded data removed]",
      "text/plain": [
       "<Figure size 2160x2160 with 4 Axes>"
      ]
     },
     "metadata": {
      "needs_background": "light"
     },
     "output_type": "display_data"
    },
    {
     "data": {
      "image/png": "[encoded data removed]",
      "text/plain": [
       "<Figure size 2160x2160 with 4 Axes>"
      ]
     },
     "metadata": {
      "needs_background": "light"
     },
     "output_type": "display_data"
    },
    {
     "data": {
      "image/png": "[encoded data removed]",
      "text/plain": [
       "<Figure size 2160x2160 with 4 Axes>"
      ]
     },
     "metadata": {
      "needs_background": "light"
     },
     "output_type": "display_data"
    },
    {
     "data": {
      "image/png": "[encoded data removed]",
      "text/plain": [
       "<Figure size 2160x2160 with 4 Axes>"
      ]
     },
     "metadata": {
      "needs_background": "light"
     },
     "output_type": "display_data"
    }
   ],
   "source": [
    "def plot_images(high,low,predicted):\n",
    "    plt.figure(figsize=(30,30))\n",
    "    plt.subplot(1,2,1)\n",
    "    plt.title('High Image', color = 'green', fontsize = 20)\n",
    "    plt.imshow(high, vmin=0, vmax=high.max())\n",
    "    plt.colorbar(fraction=0.046, pad=0.04).ax.set_ylabel(\"mm/h of rainfall\")\n",
    "    plt.axis('off')    \n",
    "    \n",
    "#     plt.subplot(1,3,2)\n",
    "#     plt.title('Low Image ', color = 'black', fontsize = 20)\n",
    "#     plt.imshow(low, vmin=0, vmax=high.max())\n",
    "#     plt.colorbar(fraction=0.046, pad=0.04).ax.set_ylabel(\"mm/h of rainfall\")\n",
    "#     plt.axis('off')    \n",
    "    \n",
    "    plt.subplot(1,2,2)\n",
    "    plt.title('Predicted Image ', color = 'Red', fontsize = 20)\n",
    "    plt.imshow(predicted, vmin=0, vmax=high.max())\n",
    "    plt.colorbar(fraction=0.046, pad=0.04).ax.set_ylabel(\"mm/h of rainfall\")\n",
    "    plt.axis('off')    \n",
    "    \n",
    "    plt.show()\n",
    "\"\"\n",
    "for i in range(150,160):\n",
    "    \n",
    "    predicted = np.clip(model.predict(test_low_image[i].reshape(1,SIZE, SIZE,1)),0.0,1.0).reshape(SIZE, SIZE,1)\n",
    "    plot_images(test_high_image[i],test_low_image[i],predicted)"
   ]
  },
  {
   "cell_type": "markdown",
   "id": "65447471",
   "metadata": {},
   "source": [
    "Evaluate on the test set!"
   ]
  },
  {
   "cell_type": "code",
   "execution_count": 29,
   "id": "841b7b1a",
   "metadata": {
    "execution": {
     "iopub.execute_input": "2022-08-23T15:00:39.457175Z",
     "iopub.status.busy": "2022-08-23T15:00:39.456760Z",
     "iopub.status.idle": "2022-08-23T15:00:42.233215Z",
     "shell.execute_reply": "2022-08-23T15:00:42.231915Z"
    },
    "papermill": {
     "duration": 2.876935,
     "end_time": "2022-08-23T15:00:42.236531",
     "exception": false,
     "start_time": "2022-08-23T15:00:39.359596",
     "status": "completed"
    },
    "tags": []
   },
   "outputs": [
    {
     "name": "stdout",
     "output_type": "stream",
     "text": [
      "397/397 [==============================] - 2s 3ms/step - loss: 0.0488 - root_mean_squared_error: 0.0772\n"
     ]
    }
   ],
   "source": [
    "res = model.evaluate(test_low_image, test_high_image, batch_size=1)"
   ]
  }
 ],
 "metadata": {
  "kernelspec": {
   "display_name": "Python 3",
   "language": "python",
   "name": "python3"
  },
  "language_info": {
   "codemirror_mode": {
    "name": "ipython",
    "version": 3
   },
   "file_extension": ".py",
   "mimetype": "text/x-python",
   "name": "python",
   "nbconvert_exporter": "python",
   "pygments_lexer": "ipython3",
   "version": "3.7.12"
  },
  "papermill": {
   "default_parameters": {},
   "duration": 196.867988,
   "end_time": "2022-08-23T15:00:48.426639",
   "environment_variables": {},
   "exception": null,
   "input_path": "__notebook__.ipynb",
   "output_path": "__notebook__.ipynb",
   "parameters": {},
   "start_time": "2022-08-23T14:57:31.558651",
   "version": "2.3.4"
  },
  "widgets": {
   "application/vnd.jupyter.widget-state+json": {
    "state": {
     "039e5571ea844318b8ca20171b50a6c7": {
      "model_module": "@jupyter-widgets/controls",
      "model_module_version": "1.5.0",
      "model_name": "HBoxModel",
      "state": {
       "_dom_classes": [],
       "_model_module": "@jupyter-widgets/controls",
       "_model_module_version": "1.5.0",
       "_model_name": "HBoxModel",
       "_view_count": null,
       "_view_module": "@jupyter-widgets/controls",
       "_view_module_version": "1.5.0",
       "_view_name": "HBoxView",
       "box_style": "",
       "children": [
        "IPY_MODEL_067d834fdd0b4e429f05cae62a762794",
        "IPY_MODEL_2e381415e3cf4ab5abbd836473f1d3c7",
        "IPY_MODEL_b7f6af8d90b34b5da881f3fe6ee4d6d6"
       ],
       "layout": "IPY_MODEL_42af388896a84631877ed017536d5310"
      }
     },
     "067d834fdd0b4e429f05cae62a762794": {
      "model_module": "@jupyter-widgets/controls",
      "model_module_version": "1.5.0",
      "model_name": "HTMLModel",
      "state": {
       "_dom_classes": [],
       "_model_module": "@jupyter-widgets/controls",
       "_model_module_version": "1.5.0",
       "_model_name": "HTMLModel",
       "_view_count": null,
       "_view_module": "@jupyter-widgets/controls",
       "_view_module_version": "1.5.0",
       "_view_name": "HTMLView",
       "description": "",
       "description_tooltip": null,
       "layout": "IPY_MODEL_382e91834b6841d8a9d5447f9fefb0d9",
       "placeholder": "​",
       "style": "IPY_MODEL_d187f4ace4e041649bf61d8b3ec5b9fb",
       "value": "100%"
      }
     },
     "28a01b9f90ee45bba422a49129f92391": {
      "model_module": "@jupyter-widgets/controls",
      "model_module_version": "1.5.0",
      "model_name": "ProgressStyleModel",
      "state": {
       "_model_module": "@jupyter-widgets/controls",
       "_model_module_version": "1.5.0",
       "_model_name": "ProgressStyleModel",
       "_view_count": null,
       "_view_module": "@jupyter-widgets/base",
       "_view_module_version": "1.2.0",
       "_view_name": "StyleView",
       "bar_color": null,
       "description_width": ""
      }
     },
     "2cb2f836cbd64223b79078fbe296175b": {
      "model_module": "@jupyter-widgets/controls",
      "model_module_version": "1.5.0",
      "model_name": "DescriptionStyleModel",
      "state": {
       "_model_module": "@jupyter-widgets/controls",
       "_model_module_version": "1.5.0",
       "_model_name": "DescriptionStyleModel",
       "_view_count": null,
       "_view_module": "@jupyter-widgets/base",
       "_view_module_version": "1.2.0",
       "_view_name": "StyleView",
       "description_width": ""
      }
     },
     "2e381415e3cf4ab5abbd836473f1d3c7": {
      "model_module": "@jupyter-widgets/controls",
      "model_module_version": "1.5.0",
      "model_name": "FloatProgressModel",
      "state": {
       "_dom_classes": [],
       "_model_module": "@jupyter-widgets/controls",
       "_model_module_version": "1.5.0",
       "_model_name": "FloatProgressModel",
       "_view_count": null,
       "_view_module": "@jupyter-widgets/controls",
       "_view_module_version": "1.5.0",
       "_view_name": "ProgressView",
       "bar_style": "success",
       "description": "",
       "description_tooltip": null,
       "layout": "IPY_MODEL_5e7feaba00c648f19278c3e3dc5bcf38",
       "max": 3600,
       "min": 0,
       "orientation": "horizontal",
       "style": "IPY_MODEL_28a01b9f90ee45bba422a49129f92391",
       "value": 3600
      }
     },
     "382e91834b6841d8a9d5447f9fefb0d9": {
      "model_module": "@jupyter-widgets/base",
      "model_module_version": "1.2.0",
      "model_name": "LayoutModel",
      "state": {
       "_model_module": "@jupyter-widgets/base",
       "_model_module_version": "1.2.0",
       "_model_name": "LayoutModel",
       "_view_count": null,
       "_view_module": "@jupyter-widgets/base",
       "_view_module_version": "1.2.0",
       "_view_name": "LayoutView",
       "align_content": null,
       "align_items": null,
       "align_self": null,
       "border": null,
       "bottom": null,
       "display": null,
       "flex": null,
       "flex_flow": null,
       "grid_area": null,
       "grid_auto_columns": null,
       "grid_auto_flow": null,
       "grid_auto_rows": null,
       "grid_column": null,
       "grid_gap": null,
       "grid_row": null,
       "grid_template_areas": null,
       "grid_template_columns": null,
       "grid_template_rows": null,
       "height": null,
       "justify_content": null,
       "justify_items": null,
       "left": null,
       "margin": null,
       "max_height": null,
       "max_width": null,
       "min_height": null,
       "min_width": null,
       "object_fit": null,
       "object_position": null,
       "order": null,
       "overflow": null,
       "overflow_x": null,
       "overflow_y": null,
       "padding": null,
       "right": null,
       "top": null,
       "visibility": null,
       "width": null
      }
     },
     "3b9e6dcde8dc458691504c4e8c74fafc": {
      "model_module": "@jupyter-widgets/controls",
      "model_module_version": "1.5.0",
      "model_name": "DescriptionStyleModel",
      "state": {
       "_model_module": "@jupyter-widgets/controls",
       "_model_module_version": "1.5.0",
       "_model_name": "DescriptionStyleModel",
       "_view_count": null,
       "_view_module": "@jupyter-widgets/base",
       "_view_module_version": "1.2.0",
       "_view_name": "StyleView",
       "description_width": ""
      }
     },
     "3e238e4d16b84cb0a8dc000a95226d87": {
      "model_module": "@jupyter-widgets/controls",
      "model_module_version": "1.5.0",
      "model_name": "HBoxModel",
      "state": {
       "_dom_classes": [],
       "_model_module": "@jupyter-widgets/controls",
       "_model_module_version": "1.5.0",
       "_model_name": "HBoxModel",
       "_view_count": null,
       "_view_module": "@jupyter-widgets/controls",
       "_view_module_version": "1.5.0",
       "_view_name": "HBoxView",
       "box_style": "",
       "children": [
        "IPY_MODEL_64aa9827e12d4b48a026d31280a11a41",
        "IPY_MODEL_f2ff963e0eb7478fabc22a1f5b584d70",
        "IPY_MODEL_d9d94a63bd434b9d8ee1383d8fa89955"
       ],
       "layout": "IPY_MODEL_adee2561eb164fe4b3efbac38c3b76ae"
      }
     },
     "42af388896a84631877ed017536d5310": {
      "model_module": "@jupyter-widgets/base",
      "model_module_version": "1.2.0",
      "model_name": "LayoutModel",
      "state": {
       "_model_module": "@jupyter-widgets/base",
       "_model_module_version": "1.2.0",
       "_model_name": "LayoutModel",
       "_view_count": null,
       "_view_module": "@jupyter-widgets/base",
       "_view_module_version": "1.2.0",
       "_view_name": "LayoutView",
       "align_content": null,
       "align_items": null,
       "align_self": null,
       "border": null,
       "bottom": null,
       "display": null,
       "flex": null,
       "flex_flow": null,
       "grid_area": null,
       "grid_auto_columns": null,
       "grid_auto_flow": null,
       "grid_auto_rows": null,
       "grid_column": null,
       "grid_gap": null,
       "grid_row": null,
       "grid_template_areas": null,
       "grid_template_columns": null,
       "grid_template_rows": null,
       "height": null,
       "justify_content": null,
       "justify_items": null,
       "left": null,
       "margin": null,
       "max_height": null,
       "max_width": null,
       "min_height": null,
       "min_width": null,
       "object_fit": null,
       "object_position": null,
       "order": null,
       "overflow": null,
       "overflow_x": null,
       "overflow_y": null,
       "padding": null,
       "right": null,
       "top": null,
       "visibility": null,
       "width": null
      }
     },
     "4730d5e4349540989b38f53d687af48b": {
      "model_module": "@jupyter-widgets/base",
      "model_module_version": "1.2.0",
      "model_name": "LayoutModel",
      "state": {
       "_model_module": "@jupyter-widgets/base",
       "_model_module_version": "1.2.0",
       "_model_name": "LayoutModel",
       "_view_count": null,
       "_view_module": "@jupyter-widgets/base",
       "_view_module_version": "1.2.0",
       "_view_name": "LayoutView",
       "align_content": null,
       "align_items": null,
       "align_self": null,
       "border": null,
       "bottom": null,
       "display": null,
       "flex": null,
       "flex_flow": null,
       "grid_area": null,
       "grid_auto_columns": null,
       "grid_auto_flow": null,
       "grid_auto_rows": null,
       "grid_column": null,
       "grid_gap": null,
       "grid_row": null,
       "grid_template_areas": null,
       "grid_template_columns": null,
       "grid_template_rows": null,
       "height": null,
       "justify_content": null,
       "justify_items": null,
       "left": null,
       "margin": null,
       "max_height": null,
       "max_width": null,
       "min_height": null,
       "min_width": null,
       "object_fit": null,
       "object_position": null,
       "order": null,
       "overflow": null,
       "overflow_x": null,
       "overflow_y": null,
       "padding": null,
       "right": null,
       "top": null,
       "visibility": null,
       "width": null
      }
     },
     "5e7feaba00c648f19278c3e3dc5bcf38": {
      "model_module": "@jupyter-widgets/base",
      "model_module_version": "1.2.0",
      "model_name": "LayoutModel",
      "state": {
       "_model_module": "@jupyter-widgets/base",
       "_model_module_version": "1.2.0",
       "_model_name": "LayoutModel",
       "_view_count": null,
       "_view_module": "@jupyter-widgets/base",
       "_view_module_version": "1.2.0",
       "_view_name": "LayoutView",
       "align_content": null,
       "align_items": null,
       "align_self": null,
       "border": null,
       "bottom": null,
       "display": null,
       "flex": null,
       "flex_flow": null,
       "grid_area": null,
       "grid_auto_columns": null,
       "grid_auto_flow": null,
       "grid_auto_rows": null,
       "grid_column": null,
       "grid_gap": null,
       "grid_row": null,
       "grid_template_areas": null,
       "grid_template_columns": null,
       "grid_template_rows": null,
       "height": null,
       "justify_content": null,
       "justify_items": null,
       "left": null,
       "margin": null,
       "max_height": null,
       "max_width": null,
       "min_height": null,
       "min_width": null,
       "object_fit": null,
       "object_position": null,
       "order": null,
       "overflow": null,
       "overflow_x": null,
       "overflow_y": null,
       "padding": null,
       "right": null,
       "top": null,
       "visibility": null,
       "width": null
      }
     },
     "64aa9827e12d4b48a026d31280a11a41": {
      "model_module": "@jupyter-widgets/controls",
      "model_module_version": "1.5.0",
      "model_name": "HTMLModel",
      "state": {
       "_dom_classes": [],
       "_model_module": "@jupyter-widgets/controls",
       "_model_module_version": "1.5.0",
       "_model_name": "HTMLModel",
       "_view_count": null,
       "_view_module": "@jupyter-widgets/controls",
       "_view_module_version": "1.5.0",
       "_view_name": "HTMLView",
       "description": "",
       "description_tooltip": null,
       "layout": "IPY_MODEL_4730d5e4349540989b38f53d687af48b",
       "placeholder": "​",
       "style": "IPY_MODEL_a7bb44638d35402b9310b7ae5259fa6f",
       "value": "100%"
      }
     },
     "77a93f74f48944be85d5e302461fa301": {
      "model_module": "@jupyter-widgets/base",
      "model_module_version": "1.2.0",
      "model_name": "LayoutModel",
      "state": {
       "_model_module": "@jupyter-widgets/base",
       "_model_module_version": "1.2.0",
       "_model_name": "LayoutModel",
       "_view_count": null,
       "_view_module": "@jupyter-widgets/base",
       "_view_module_version": "1.2.0",
       "_view_name": "LayoutView",
       "align_content": null,
       "align_items": null,
       "align_self": null,
       "border": null,
       "bottom": null,
       "display": null,
       "flex": null,
       "flex_flow": null,
       "grid_area": null,
       "grid_auto_columns": null,
       "grid_auto_flow": null,
       "grid_auto_rows": null,
       "grid_column": null,
       "grid_gap": null,
       "grid_row": null,
       "grid_template_areas": null,
       "grid_template_columns": null,
       "grid_template_rows": null,
       "height": null,
       "justify_content": null,
       "justify_items": null,
       "left": null,
       "margin": null,
       "max_height": null,
       "max_width": null,
       "min_height": null,
       "min_width": null,
       "object_fit": null,
       "object_position": null,
       "order": null,
       "overflow": null,
       "overflow_x": null,
       "overflow_y": null,
       "padding": null,
       "right": null,
       "top": null,
       "visibility": null,
       "width": null
      }
     },
     "77b2c34a620f4f3fac82e88e896dac64": {
      "model_module": "@jupyter-widgets/controls",
      "model_module_version": "1.5.0",
      "model_name": "ProgressStyleModel",
      "state": {
       "_model_module": "@jupyter-widgets/controls",
       "_model_module_version": "1.5.0",
       "_model_name": "ProgressStyleModel",
       "_view_count": null,
       "_view_module": "@jupyter-widgets/base",
       "_view_module_version": "1.2.0",
       "_view_name": "StyleView",
       "bar_color": null,
       "description_width": ""
      }
     },
     "9c1182dcb974431588fca6a297f3cd2d": {
      "model_module": "@jupyter-widgets/base",
      "model_module_version": "1.2.0",
      "model_name": "LayoutModel",
      "state": {
       "_model_module": "@jupyter-widgets/base",
       "_model_module_version": "1.2.0",
       "_model_name": "LayoutModel",
       "_view_count": null,
       "_view_module": "@jupyter-widgets/base",
       "_view_module_version": "1.2.0",
       "_view_name": "LayoutView",
       "align_content": null,
       "align_items": null,
       "align_self": null,
       "border": null,
       "bottom": null,
       "display": null,
       "flex": null,
       "flex_flow": null,
       "grid_area": null,
       "grid_auto_columns": null,
       "grid_auto_flow": null,
       "grid_auto_rows": null,
       "grid_column": null,
       "grid_gap": null,
       "grid_row": null,
       "grid_template_areas": null,
       "grid_template_columns": null,
       "grid_template_rows": null,
       "height": null,
       "justify_content": null,
       "justify_items": null,
       "left": null,
       "margin": null,
       "max_height": null,
       "max_width": null,
       "min_height": null,
       "min_width": null,
       "object_fit": null,
       "object_position": null,
       "order": null,
       "overflow": null,
       "overflow_x": null,
       "overflow_y": null,
       "padding": null,
       "right": null,
       "top": null,
       "visibility": null,
       "width": null
      }
     },
     "a7bb44638d35402b9310b7ae5259fa6f": {
      "model_module": "@jupyter-widgets/controls",
      "model_module_version": "1.5.0",
      "model_name": "DescriptionStyleModel",
      "state": {
       "_model_module": "@jupyter-widgets/controls",
       "_model_module_version": "1.5.0",
       "_model_name": "DescriptionStyleModel",
       "_view_count": null,
       "_view_module": "@jupyter-widgets/base",
       "_view_module_version": "1.2.0",
       "_view_name": "StyleView",
       "description_width": ""
      }
     },
     "adee2561eb164fe4b3efbac38c3b76ae": {
      "model_module": "@jupyter-widgets/base",
      "model_module_version": "1.2.0",
      "model_name": "LayoutModel",
      "state": {
       "_model_module": "@jupyter-widgets/base",
       "_model_module_version": "1.2.0",
       "_model_name": "LayoutModel",
       "_view_count": null,
       "_view_module": "@jupyter-widgets/base",
       "_view_module_version": "1.2.0",
       "_view_name": "LayoutView",
       "align_content": null,
       "align_items": null,
       "align_self": null,
       "border": null,
       "bottom": null,
       "display": null,
       "flex": null,
       "flex_flow": null,
       "grid_area": null,
       "grid_auto_columns": null,
       "grid_auto_flow": null,
       "grid_auto_rows": null,
       "grid_column": null,
       "grid_gap": null,
       "grid_row": null,
       "grid_template_areas": null,
       "grid_template_columns": null,
       "grid_template_rows": null,
       "height": null,
       "justify_content": null,
       "justify_items": null,
       "left": null,
       "margin": null,
       "max_height": null,
       "max_width": null,
       "min_height": null,
       "min_width": null,
       "object_fit": null,
       "object_position": null,
       "order": null,
       "overflow": null,
       "overflow_x": null,
       "overflow_y": null,
       "padding": null,
       "right": null,
       "top": null,
       "visibility": null,
       "width": null
      }
     },
     "b7f6af8d90b34b5da881f3fe6ee4d6d6": {
      "model_module": "@jupyter-widgets/controls",
      "model_module_version": "1.5.0",
      "model_name": "HTMLModel",
      "state": {
       "_dom_classes": [],
       "_model_module": "@jupyter-widgets/controls",
       "_model_module_version": "1.5.0",
       "_model_name": "HTMLModel",
       "_view_count": null,
       "_view_module": "@jupyter-widgets/controls",
       "_view_module_version": "1.5.0",
       "_view_name": "HTMLView",
       "description": "",
       "description_tooltip": null,
       "layout": "IPY_MODEL_77a93f74f48944be85d5e302461fa301",
       "placeholder": "​",
       "style": "IPY_MODEL_3b9e6dcde8dc458691504c4e8c74fafc",
       "value": " 3600/3600 [00:01&lt;00:00, 4090.58it/s]"
      }
     },
     "cb0b5c6ed188409094e7a4b7c5461b63": {
      "model_module": "@jupyter-widgets/base",
      "model_module_version": "1.2.0",
      "model_name": "LayoutModel",
      "state": {
       "_model_module": "@jupyter-widgets/base",
       "_model_module_version": "1.2.0",
       "_model_name": "LayoutModel",
       "_view_count": null,
       "_view_module": "@jupyter-widgets/base",
       "_view_module_version": "1.2.0",
       "_view_name": "LayoutView",
       "align_content": null,
       "align_items": null,
       "align_self": null,
       "border": null,
       "bottom": null,
       "display": null,
       "flex": null,
       "flex_flow": null,
       "grid_area": null,
       "grid_auto_columns": null,
       "grid_auto_flow": null,
       "grid_auto_rows": null,
       "grid_column": null,
       "grid_gap": null,
       "grid_row": null,
       "grid_template_areas": null,
       "grid_template_columns": null,
       "grid_template_rows": null,
       "height": null,
       "justify_content": null,
       "justify_items": null,
       "left": null,
       "margin": null,
       "max_height": null,
       "max_width": null,
       "min_height": null,
       "min_width": null,
       "object_fit": null,
       "object_position": null,
       "order": null,
       "overflow": null,
       "overflow_x": null,
       "overflow_y": null,
       "padding": null,
       "right": null,
       "top": null,
       "visibility": null,
       "width": null
      }
     },
     "d187f4ace4e041649bf61d8b3ec5b9fb": {
      "model_module": "@jupyter-widgets/controls",
      "model_module_version": "1.5.0",
      "model_name": "DescriptionStyleModel",
      "state": {
       "_model_module": "@jupyter-widgets/controls",
       "_model_module_version": "1.5.0",
       "_model_name": "DescriptionStyleModel",
       "_view_count": null,
       "_view_module": "@jupyter-widgets/base",
       "_view_module_version": "1.2.0",
       "_view_name": "StyleView",
       "description_width": ""
      }
     },
     "d9d94a63bd434b9d8ee1383d8fa89955": {
      "model_module": "@jupyter-widgets/controls",
      "model_module_version": "1.5.0",
      "model_name": "HTMLModel",
      "state": {
       "_dom_classes": [],
       "_model_module": "@jupyter-widgets/controls",
       "_model_module_version": "1.5.0",
       "_model_name": "HTMLModel",
       "_view_count": null,
       "_view_module": "@jupyter-widgets/controls",
       "_view_module_version": "1.5.0",
       "_view_name": "HTMLView",
       "description": "",
       "description_tooltip": null,
       "layout": "IPY_MODEL_9c1182dcb974431588fca6a297f3cd2d",
       "placeholder": "​",
       "style": "IPY_MODEL_2cb2f836cbd64223b79078fbe296175b",
       "value": " 3600/3600 [00:02&lt;00:00, 5142.58it/s]"
      }
     },
     "f2ff963e0eb7478fabc22a1f5b584d70": {
      "model_module": "@jupyter-widgets/controls",
      "model_module_version": "1.5.0",
      "model_name": "FloatProgressModel",
      "state": {
       "_dom_classes": [],
       "_model_module": "@jupyter-widgets/controls",
       "_model_module_version": "1.5.0",
       "_model_name": "FloatProgressModel",
       "_view_count": null,
       "_view_module": "@jupyter-widgets/controls",
       "_view_module_version": "1.5.0",
       "_view_name": "ProgressView",
       "bar_style": "success",
       "description": "",
       "description_tooltip": null,
       "layout": "IPY_MODEL_cb0b5c6ed188409094e7a4b7c5461b63",
       "max": 3600,
       "min": 0,
       "orientation": "horizontal",
       "style": "IPY_MODEL_77b2c34a620f4f3fac82e88e896dac64",
       "value": 3600
      }
     }
    },
    "version_major": 2,
    "version_minor": 0
   }
  }
 },
 "nbformat": 4,
 "nbformat_minor": 5
}
